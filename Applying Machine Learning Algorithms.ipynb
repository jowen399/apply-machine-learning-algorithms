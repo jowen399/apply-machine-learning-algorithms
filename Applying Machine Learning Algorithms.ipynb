{
 "cells": [
  {
   "cell_type": "markdown",
   "metadata": {},
   "source": [
    "# Applying Machine Learning Algorithms to a video game dataset.\n",
    "\n",
    "## This project applies various machine learning algorithms to data from the video game 'Fifa 19'. This is split into two parts: \n",
    "\n",
    "### Part 1: Discreet Data\n",
    "\n",
    "#### Here Machine learning algorithms which predict discreet (catagorical) data are used to predict the player's position (which role they usually play within a team\n",
    "\n",
    "### Part 2: Continuous data\n",
    "\n",
    "#### Here Machine learning algorithms which predict continuous (numeric) data are used to predict the player's value (How much they are 'worth' in the game)"
   ]
  },
  {
   "cell_type": "markdown",
   "metadata": {
    "id": "EU8ttVs5DgEr"
   },
   "source": [
    "# The Data: \n",
    "\n",
    "#### This Dataset is from the website Kaggle. It contains data from the video game 'Fifa 19'. This is a football simulation game, so the data relates specifically to the in-game attributes of the players. Each player within the game has an associated set of attributes, which are intended to represent the players real-life qualities. As the clubs and players in the game represent those in real life, they are intended to represent the players actual qualities as far as possible. "
   ]
  },
  {
   "cell_type": "code",
   "execution_count": 152,
   "metadata": {
    "executionInfo": {
     "elapsed": 1377,
     "status": "ok",
     "timestamp": 1619716985593,
     "user": {
      "displayName": "Jim Owen",
      "photoUrl": "https://lh3.googleusercontent.com/a-/AOh14Gg6nX8dnDJrxx0d0ekeclz0yd7tkx5op3_4sJH5LA=s64",
      "userId": "16542393695542225143"
     },
     "user_tz": -60
    },
    "id": "zV4lJe5ADlDS"
   },
   "outputs": [],
   "source": [
    "import pandas as pd\n",
    "import numpy as np\n",
    "import matplotlib.pyplot as plt\n",
    "import seaborn as sns"
   ]
  },
  {
   "cell_type": "code",
   "execution_count": 153,
   "metadata": {
    "executionInfo": {
     "elapsed": 969,
     "status": "ok",
     "timestamp": 1619717208020,
     "user": {
      "displayName": "Jim Owen",
      "photoUrl": "https://lh3.googleusercontent.com/a-/AOh14Gg6nX8dnDJrxx0d0ekeclz0yd7tkx5op3_4sJH5LA=s64",
      "userId": "16542393695542225143"
     },
     "user_tz": -60
    },
    "id": "2G-VzCZ5EmVx"
   },
   "outputs": [],
   "source": [
    "df = pd.read_csv('fifa_data.csv')"
   ]
  },
  {
   "cell_type": "code",
   "execution_count": 154,
   "metadata": {
    "colab": {
     "base_uri": "https://localhost:8080/",
     "height": 610
    },
    "executionInfo": {
     "elapsed": 1140,
     "status": "ok",
     "timestamp": 1619717209817,
     "user": {
      "displayName": "Jim Owen",
      "photoUrl": "https://lh3.googleusercontent.com/a-/AOh14Gg6nX8dnDJrxx0d0ekeclz0yd7tkx5op3_4sJH5LA=s64",
      "userId": "16542393695542225143"
     },
     "user_tz": -60
    },
    "id": "ehsW7tbOEnGc",
    "outputId": "248cc1ad-d642-4dff-ea33-8c73615fc20a"
   },
   "outputs": [
    {
     "data": {
      "text/html": [
       "<div>\n",
       "<style scoped>\n",
       "    .dataframe tbody tr th:only-of-type {\n",
       "        vertical-align: middle;\n",
       "    }\n",
       "\n",
       "    .dataframe tbody tr th {\n",
       "        vertical-align: top;\n",
       "    }\n",
       "\n",
       "    .dataframe thead th {\n",
       "        text-align: right;\n",
       "    }\n",
       "</style>\n",
       "<table border=\"1\" class=\"dataframe\">\n",
       "  <thead>\n",
       "    <tr style=\"text-align: right;\">\n",
       "      <th></th>\n",
       "      <th>Unnamed: 0</th>\n",
       "      <th>ID</th>\n",
       "      <th>Name</th>\n",
       "      <th>Age</th>\n",
       "      <th>Photo</th>\n",
       "      <th>Nationality</th>\n",
       "      <th>Flag</th>\n",
       "      <th>Overall</th>\n",
       "      <th>Potential</th>\n",
       "      <th>Club</th>\n",
       "      <th>...</th>\n",
       "      <th>Composure</th>\n",
       "      <th>Marking</th>\n",
       "      <th>StandingTackle</th>\n",
       "      <th>SlidingTackle</th>\n",
       "      <th>GKDiving</th>\n",
       "      <th>GKHandling</th>\n",
       "      <th>GKKicking</th>\n",
       "      <th>GKPositioning</th>\n",
       "      <th>GKReflexes</th>\n",
       "      <th>Release Clause</th>\n",
       "    </tr>\n",
       "  </thead>\n",
       "  <tbody>\n",
       "    <tr>\n",
       "      <th>0</th>\n",
       "      <td>0</td>\n",
       "      <td>158023</td>\n",
       "      <td>L. Messi</td>\n",
       "      <td>31</td>\n",
       "      <td>https://cdn.sofifa.org/players/4/19/158023.png</td>\n",
       "      <td>Argentina</td>\n",
       "      <td>https://cdn.sofifa.org/flags/52.png</td>\n",
       "      <td>94</td>\n",
       "      <td>94</td>\n",
       "      <td>FC Barcelona</td>\n",
       "      <td>...</td>\n",
       "      <td>96.0</td>\n",
       "      <td>33.0</td>\n",
       "      <td>28.0</td>\n",
       "      <td>26.0</td>\n",
       "      <td>6.0</td>\n",
       "      <td>11.0</td>\n",
       "      <td>15.0</td>\n",
       "      <td>14.0</td>\n",
       "      <td>8.0</td>\n",
       "      <td>€226.5M</td>\n",
       "    </tr>\n",
       "    <tr>\n",
       "      <th>1</th>\n",
       "      <td>1</td>\n",
       "      <td>20801</td>\n",
       "      <td>Cristiano Ronaldo</td>\n",
       "      <td>33</td>\n",
       "      <td>https://cdn.sofifa.org/players/4/19/20801.png</td>\n",
       "      <td>Portugal</td>\n",
       "      <td>https://cdn.sofifa.org/flags/38.png</td>\n",
       "      <td>94</td>\n",
       "      <td>94</td>\n",
       "      <td>Juventus</td>\n",
       "      <td>...</td>\n",
       "      <td>95.0</td>\n",
       "      <td>28.0</td>\n",
       "      <td>31.0</td>\n",
       "      <td>23.0</td>\n",
       "      <td>7.0</td>\n",
       "      <td>11.0</td>\n",
       "      <td>15.0</td>\n",
       "      <td>14.0</td>\n",
       "      <td>11.0</td>\n",
       "      <td>€127.1M</td>\n",
       "    </tr>\n",
       "    <tr>\n",
       "      <th>2</th>\n",
       "      <td>2</td>\n",
       "      <td>190871</td>\n",
       "      <td>Neymar Jr</td>\n",
       "      <td>26</td>\n",
       "      <td>https://cdn.sofifa.org/players/4/19/190871.png</td>\n",
       "      <td>Brazil</td>\n",
       "      <td>https://cdn.sofifa.org/flags/54.png</td>\n",
       "      <td>92</td>\n",
       "      <td>93</td>\n",
       "      <td>Paris Saint-Germain</td>\n",
       "      <td>...</td>\n",
       "      <td>94.0</td>\n",
       "      <td>27.0</td>\n",
       "      <td>24.0</td>\n",
       "      <td>33.0</td>\n",
       "      <td>9.0</td>\n",
       "      <td>9.0</td>\n",
       "      <td>15.0</td>\n",
       "      <td>15.0</td>\n",
       "      <td>11.0</td>\n",
       "      <td>€228.1M</td>\n",
       "    </tr>\n",
       "    <tr>\n",
       "      <th>3</th>\n",
       "      <td>3</td>\n",
       "      <td>193080</td>\n",
       "      <td>De Gea</td>\n",
       "      <td>27</td>\n",
       "      <td>https://cdn.sofifa.org/players/4/19/193080.png</td>\n",
       "      <td>Spain</td>\n",
       "      <td>https://cdn.sofifa.org/flags/45.png</td>\n",
       "      <td>91</td>\n",
       "      <td>93</td>\n",
       "      <td>Manchester United</td>\n",
       "      <td>...</td>\n",
       "      <td>68.0</td>\n",
       "      <td>15.0</td>\n",
       "      <td>21.0</td>\n",
       "      <td>13.0</td>\n",
       "      <td>90.0</td>\n",
       "      <td>85.0</td>\n",
       "      <td>87.0</td>\n",
       "      <td>88.0</td>\n",
       "      <td>94.0</td>\n",
       "      <td>€138.6M</td>\n",
       "    </tr>\n",
       "    <tr>\n",
       "      <th>4</th>\n",
       "      <td>4</td>\n",
       "      <td>192985</td>\n",
       "      <td>K. De Bruyne</td>\n",
       "      <td>27</td>\n",
       "      <td>https://cdn.sofifa.org/players/4/19/192985.png</td>\n",
       "      <td>Belgium</td>\n",
       "      <td>https://cdn.sofifa.org/flags/7.png</td>\n",
       "      <td>91</td>\n",
       "      <td>92</td>\n",
       "      <td>Manchester City</td>\n",
       "      <td>...</td>\n",
       "      <td>88.0</td>\n",
       "      <td>68.0</td>\n",
       "      <td>58.0</td>\n",
       "      <td>51.0</td>\n",
       "      <td>15.0</td>\n",
       "      <td>13.0</td>\n",
       "      <td>5.0</td>\n",
       "      <td>10.0</td>\n",
       "      <td>13.0</td>\n",
       "      <td>€196.4M</td>\n",
       "    </tr>\n",
       "  </tbody>\n",
       "</table>\n",
       "<p>5 rows × 89 columns</p>\n",
       "</div>"
      ],
      "text/plain": [
       "   Unnamed: 0      ID               Name  Age  \\\n",
       "0           0  158023           L. Messi   31   \n",
       "1           1   20801  Cristiano Ronaldo   33   \n",
       "2           2  190871          Neymar Jr   26   \n",
       "3           3  193080             De Gea   27   \n",
       "4           4  192985       K. De Bruyne   27   \n",
       "\n",
       "                                            Photo Nationality  \\\n",
       "0  https://cdn.sofifa.org/players/4/19/158023.png   Argentina   \n",
       "1   https://cdn.sofifa.org/players/4/19/20801.png    Portugal   \n",
       "2  https://cdn.sofifa.org/players/4/19/190871.png      Brazil   \n",
       "3  https://cdn.sofifa.org/players/4/19/193080.png       Spain   \n",
       "4  https://cdn.sofifa.org/players/4/19/192985.png     Belgium   \n",
       "\n",
       "                                  Flag  Overall  Potential  \\\n",
       "0  https://cdn.sofifa.org/flags/52.png       94         94   \n",
       "1  https://cdn.sofifa.org/flags/38.png       94         94   \n",
       "2  https://cdn.sofifa.org/flags/54.png       92         93   \n",
       "3  https://cdn.sofifa.org/flags/45.png       91         93   \n",
       "4   https://cdn.sofifa.org/flags/7.png       91         92   \n",
       "\n",
       "                  Club  ... Composure Marking StandingTackle  SlidingTackle  \\\n",
       "0         FC Barcelona  ...      96.0    33.0           28.0           26.0   \n",
       "1             Juventus  ...      95.0    28.0           31.0           23.0   \n",
       "2  Paris Saint-Germain  ...      94.0    27.0           24.0           33.0   \n",
       "3    Manchester United  ...      68.0    15.0           21.0           13.0   \n",
       "4      Manchester City  ...      88.0    68.0           58.0           51.0   \n",
       "\n",
       "  GKDiving  GKHandling  GKKicking  GKPositioning GKReflexes Release Clause  \n",
       "0      6.0        11.0       15.0           14.0        8.0        €226.5M  \n",
       "1      7.0        11.0       15.0           14.0       11.0        €127.1M  \n",
       "2      9.0         9.0       15.0           15.0       11.0        €228.1M  \n",
       "3     90.0        85.0       87.0           88.0       94.0        €138.6M  \n",
       "4     15.0        13.0        5.0           10.0       13.0        €196.4M  \n",
       "\n",
       "[5 rows x 89 columns]"
      ]
     },
     "execution_count": 154,
     "metadata": {},
     "output_type": "execute_result"
    }
   ],
   "source": [
    "df.head(5)"
   ]
  },
  {
   "cell_type": "markdown",
   "metadata": {
    "id": "eczGMnCqJ5Y3"
   },
   "source": [
    "# Data Cleaning. \n",
    "\n",
    "#### In order to make the dataset as easy to analyse as possible, we must first clean the data. "
   ]
  },
  {
   "cell_type": "code",
   "execution_count": 155,
   "metadata": {
    "executionInfo": {
     "elapsed": 846,
     "status": "ok",
     "timestamp": 1619717236924,
     "user": {
      "displayName": "Jim Owen",
      "photoUrl": "https://lh3.googleusercontent.com/a-/AOh14Gg6nX8dnDJrxx0d0ekeclz0yd7tkx5op3_4sJH5LA=s64",
      "userId": "16542393695542225143"
     },
     "user_tz": -60
    },
    "id": "948dbHdYKau9"
   },
   "outputs": [],
   "source": [
    "#drop unnecessary columns\n",
    "df.drop([\"Unnamed: 0\",\"Photo\",\"Flag\",\"Club Logo\",\"Jersey Number\",\"Real Face\",\"Body Type\",\"LS\",\"ST\",\"RS\",\"LW\",\"LF\",\"CF\",\"RF\",\"RW\",\"LAM\",\"CAM\",\"RAM\",\"LM\",\"LCM\",\"CM\",\"RCM\",\"RM\",\"LWB\",\"LDM\",\"CDM\",\"RDM\",\"RWB\",\"LB\",\"LCB\",\"CB\",\"RCB\",\"RB\",'Loaned From','Joined','Special','Weight'],axis=1,inplace=True)"
   ]
  },
  {
   "cell_type": "code",
   "execution_count": 156,
   "metadata": {
    "executionInfo": {
     "elapsed": 934,
     "status": "ok",
     "timestamp": 1619717241806,
     "user": {
      "displayName": "Jim Owen",
      "photoUrl": "https://lh3.googleusercontent.com/a-/AOh14Gg6nX8dnDJrxx0d0ekeclz0yd7tkx5op3_4sJH5LA=s64",
      "userId": "16542393695542225143"
     },
     "user_tz": -60
    },
    "id": "kZN6RJtNKfk4"
   },
   "outputs": [],
   "source": [
    "#to simplify dataset, create one metric which captures golakeeping ability\n",
    "df['GoalkeeperRating'] = (df.GKKicking + df.GKDiving + df.GKHandling + df.GKPositioning + df.GKReflexes ) / 5"
   ]
  },
  {
   "cell_type": "code",
   "execution_count": 157,
   "metadata": {
    "executionInfo": {
     "elapsed": 970,
     "status": "ok",
     "timestamp": 1619717244376,
     "user": {
      "displayName": "Jim Owen",
      "photoUrl": "https://lh3.googleusercontent.com/a-/AOh14Gg6nX8dnDJrxx0d0ekeclz0yd7tkx5op3_4sJH5LA=s64",
      "userId": "16542393695542225143"
     },
     "user_tz": -60
    },
    "id": "Mm1wYmHVKi64"
   },
   "outputs": [],
   "source": [
    "#drop redundant goalkeeper attribute points\n",
    "df.drop(['GKReflexes','GKPositioning','GKDiving','GKHandling','GKKicking'],axis=1,inplace=True)"
   ]
  },
  {
   "cell_type": "code",
   "execution_count": 158,
   "metadata": {
    "executionInfo": {
     "elapsed": 2109,
     "status": "ok",
     "timestamp": 1619717249051,
     "user": {
      "displayName": "Jim Owen",
      "photoUrl": "https://lh3.googleusercontent.com/a-/AOh14Gg6nX8dnDJrxx0d0ekeclz0yd7tkx5op3_4sJH5LA=s64",
      "userId": "16542393695542225143"
     },
     "user_tz": -60
    },
    "id": "-UIPWmthKl4Z"
   },
   "outputs": [],
   "source": [
    "#simplify positions by grouping them\n",
    "def f(row):\n",
    "    if row['Position'] == 'RWB':\n",
    "        val = 'FB'\n",
    "    elif row['Position'] == 'LWB':\n",
    "        val = 'FB'\n",
    "    elif row['Position'] == 'LB':\n",
    "        val = 'FB'\n",
    "    elif row['Position'] == 'RB':\n",
    "        val = 'FB'\n",
    "    elif row['Position'] == 'RCB':\n",
    "        val = 'CB'\n",
    "    elif row['Position'] == 'LCB':\n",
    "        val = 'CB'\n",
    "    elif row['Position'] == 'LDM':\n",
    "        val = 'DM'\n",
    "    elif row['Position'] == 'CDM':\n",
    "        val = 'DM'\n",
    "    elif row['Position'] == 'RDM':\n",
    "        val = 'DM'\n",
    "    elif row['Position'] == 'RCM':\n",
    "        val = 'CM'\n",
    "    elif row['Position'] == 'LCM':\n",
    "        val = 'CM'\n",
    "    elif row['Position'] == 'LF':\n",
    "        val = 'WG'\n",
    "    elif row['Position'] == 'LW':\n",
    "        val = 'WG'\n",
    "    elif row['Position'] == 'LM':\n",
    "        val = 'WG'\n",
    "    elif row['Position'] == 'RM':\n",
    "        val = 'WG'\n",
    "    elif row['Position'] == 'RW':\n",
    "        val = 'WG'\n",
    "    elif row['Position'] == 'RF':\n",
    "        val = 'WG'\n",
    "    elif row['Position'] == 'RS':\n",
    "        val = 'ST'\n",
    "    elif row['Position'] == 'LS':\n",
    "        val = 'ST'\n",
    "    elif row['Position'] == 'CF':\n",
    "        val = 'ST'\n",
    "    elif row['Position'] == 'LAM':\n",
    "        val = 'CAM'\n",
    "    elif row['Position'] == 'RAM':\n",
    "        val = 'CAM'\n",
    "    else:\n",
    "        val = row['Position']\n",
    "    return val\n",
    "\n",
    "#create new column 'simplified poisiton' using the function above\n",
    "df['SimplifiedPosition'] = df.apply(f, axis=1)"
   ]
  },
  {
   "cell_type": "code",
   "execution_count": 159,
   "metadata": {
    "colab": {
     "base_uri": "https://localhost:8080/"
    },
    "executionInfo": {
     "elapsed": 910,
     "status": "ok",
     "timestamp": 1619717255405,
     "user": {
      "displayName": "Jim Owen",
      "photoUrl": "https://lh3.googleusercontent.com/a-/AOh14Gg6nX8dnDJrxx0d0ekeclz0yd7tkx5op3_4sJH5LA=s64",
      "userId": "16542393695542225143"
     },
     "user_tz": -60
    },
    "id": "xHhU8LexL4_s",
    "outputId": "866a12c7-5e88-4660-e2dc-83a6b038c9fc"
   },
   "outputs": [
    {
     "data": {
      "text/plain": [
       "CB     3088\n",
       "WG     3001\n",
       "FB     2778\n",
       "ST     2636\n",
       "CM     2180\n",
       "GK     2025\n",
       "DM     1439\n",
       "CAM    1000\n",
       "Name: SimplifiedPosition, dtype: int64"
      ]
     },
     "execution_count": 159,
     "metadata": {},
     "output_type": "execute_result"
    }
   ],
   "source": [
    "#lets take a look at the values in this new column\n",
    "sorted_df = df.sort_values(by='SimplifiedPosition', ascending=False)\n",
    "sorted_df['SimplifiedPosition'].value_counts()"
   ]
  },
  {
   "cell_type": "code",
   "execution_count": 160,
   "metadata": {
    "colab": {
     "base_uri": "https://localhost:8080/"
    },
    "executionInfo": {
     "elapsed": 782,
     "status": "ok",
     "timestamp": 1619717259729,
     "user": {
      "displayName": "Jim Owen",
      "photoUrl": "https://lh3.googleusercontent.com/a-/AOh14Gg6nX8dnDJrxx0d0ekeclz0yd7tkx5op3_4sJH5LA=s64",
      "userId": "16542393695542225143"
     },
     "user_tz": -60
    },
    "id": "cIerSjZ6L-5V",
    "outputId": "42de66dc-0bd7-479f-8ae5-0747f52bd5a4"
   },
   "outputs": [
    {
     "name": "stdout",
     "output_type": "stream",
     "text": [
      "60\n"
     ]
    }
   ],
   "source": [
    "#sum the null values to check that there are no blanks\n",
    "print(df['SimplifiedPosition'].isna().sum().sum())"
   ]
  },
  {
   "cell_type": "code",
   "execution_count": 161,
   "metadata": {
    "executionInfo": {
     "elapsed": 968,
     "status": "ok",
     "timestamp": 1619717262429,
     "user": {
      "displayName": "Jim Owen",
      "photoUrl": "https://lh3.googleusercontent.com/a-/AOh14Gg6nX8dnDJrxx0d0ekeclz0yd7tkx5op3_4sJH5LA=s64",
      "userId": "16542393695542225143"
     },
     "user_tz": -60
    },
    "id": "laHRT9C3MHwo"
   },
   "outputs": [],
   "source": [
    "#as there are only 60 null values in a large dataset, the 'cleanest' method is to drop them\n",
    "df.dropna(inplace=True)"
   ]
  },
  {
   "cell_type": "markdown",
   "metadata": {
    "id": "p8PV7_EwK1Mj"
   },
   "source": [
    "# Data Exploration\n",
    "\n",
    "When exploring the data, we are looking for attributes which 'stand out' as being particularly high or low for one position, as this will give us an indication of the attributes which are more/less inmportant. \n",
    "\n",
    "The code below groups the rows according to their 'simplified' position and returns the mean for the attribute specified. By changing this value, we can explore which attributes tend to score more highly amongst different positions. "
   ]
  },
  {
   "cell_type": "code",
   "execution_count": 162,
   "metadata": {
    "colab": {
     "base_uri": "https://localhost:8080/"
    },
    "executionInfo": {
     "elapsed": 940,
     "status": "ok",
     "timestamp": 1619717266130,
     "user": {
      "displayName": "Jim Owen",
      "photoUrl": "https://lh3.googleusercontent.com/a-/AOh14Gg6nX8dnDJrxx0d0ekeclz0yd7tkx5op3_4sJH5LA=s64",
      "userId": "16542393695542225143"
     },
     "user_tz": -60
    },
    "id": "C6gqoY89LpwC",
    "outputId": "2016c19e-2257-4336-82e4-7ed711575103"
   },
   "outputs": [
    {
     "name": "stdout",
     "output_type": "stream",
     "text": [
      "<bound method Series.sort_values of SimplifiedPosition\n",
      "CAM    60.265795\n",
      "CB     34.704482\n",
      "CM     57.636089\n",
      "DM     54.334340\n",
      "FB     45.147173\n",
      "GK     12.535789\n",
      "ST     59.753506\n",
      "WG     57.875229\n",
      "Name: LongShots, dtype: float64>\n"
     ]
    }
   ],
   "source": [
    "position_group = df.groupby('SimplifiedPosition')\n",
    "position_group_attribute = position_group.LongShots.mean().sort_values\n",
    "print(position_group_attribute)"
   ]
  },
  {
   "cell_type": "markdown",
   "metadata": {
    "id": "kbPTuqsTM8ns"
   },
   "source": [
    "We can do this in a more systematic way. By creating a new dataframe using the groupby, we can examine the attributes in more detail. "
   ]
  },
  {
   "cell_type": "code",
   "execution_count": 163,
   "metadata": {
    "colab": {
     "base_uri": "https://localhost:8080/",
     "height": 350
    },
    "executionInfo": {
     "elapsed": 811,
     "status": "ok",
     "timestamp": 1619717272905,
     "user": {
      "displayName": "Jim Owen",
      "photoUrl": "https://lh3.googleusercontent.com/a-/AOh14Gg6nX8dnDJrxx0d0ekeclz0yd7tkx5op3_4sJH5LA=s64",
      "userId": "16542393695542225143"
     },
     "user_tz": -60
    },
    "id": "PikbDLw1NPSt",
    "outputId": "7807297a-b581-44af-a142-f6013e0a2f90"
   },
   "outputs": [
    {
     "data": {
      "text/html": [
       "<div>\n",
       "<style scoped>\n",
       "    .dataframe tbody tr th:only-of-type {\n",
       "        vertical-align: middle;\n",
       "    }\n",
       "\n",
       "    .dataframe tbody tr th {\n",
       "        vertical-align: top;\n",
       "    }\n",
       "\n",
       "    .dataframe thead th {\n",
       "        text-align: right;\n",
       "    }\n",
       "</style>\n",
       "<table border=\"1\" class=\"dataframe\">\n",
       "  <thead>\n",
       "    <tr style=\"text-align: right;\">\n",
       "      <th></th>\n",
       "      <th>Weak Foot</th>\n",
       "      <th>Skill Moves</th>\n",
       "      <th>Crossing</th>\n",
       "      <th>Finishing</th>\n",
       "      <th>HeadingAccuracy</th>\n",
       "      <th>ShortPassing</th>\n",
       "      <th>Volleys</th>\n",
       "      <th>Dribbling</th>\n",
       "      <th>Curve</th>\n",
       "      <th>FKAccuracy</th>\n",
       "      <th>...</th>\n",
       "      <th>Aggression</th>\n",
       "      <th>Interceptions</th>\n",
       "      <th>Positioning</th>\n",
       "      <th>Vision</th>\n",
       "      <th>Penalties</th>\n",
       "      <th>Composure</th>\n",
       "      <th>Marking</th>\n",
       "      <th>StandingTackle</th>\n",
       "      <th>SlidingTackle</th>\n",
       "      <th>GoalkeeperRating</th>\n",
       "    </tr>\n",
       "    <tr>\n",
       "      <th>SimplifiedPosition</th>\n",
       "      <th></th>\n",
       "      <th></th>\n",
       "      <th></th>\n",
       "      <th></th>\n",
       "      <th></th>\n",
       "      <th></th>\n",
       "      <th></th>\n",
       "      <th></th>\n",
       "      <th></th>\n",
       "      <th></th>\n",
       "      <th></th>\n",
       "      <th></th>\n",
       "      <th></th>\n",
       "      <th></th>\n",
       "      <th></th>\n",
       "      <th></th>\n",
       "      <th></th>\n",
       "      <th></th>\n",
       "      <th></th>\n",
       "      <th></th>\n",
       "      <th></th>\n",
       "    </tr>\n",
       "  </thead>\n",
       "  <tbody>\n",
       "    <tr>\n",
       "      <th>CAM</th>\n",
       "      <td>3.216776</td>\n",
       "      <td>2.969499</td>\n",
       "      <td>59.940087</td>\n",
       "      <td>59.385621</td>\n",
       "      <td>49.092593</td>\n",
       "      <td>67.572985</td>\n",
       "      <td>55.821351</td>\n",
       "      <td>68.140523</td>\n",
       "      <td>61.309368</td>\n",
       "      <td>58.171024</td>\n",
       "      <td>...</td>\n",
       "      <td>51.561002</td>\n",
       "      <td>39.643791</td>\n",
       "      <td>62.199346</td>\n",
       "      <td>66.047930</td>\n",
       "      <td>58.178649</td>\n",
       "      <td>63.210240</td>\n",
       "      <td>40.057734</td>\n",
       "      <td>41.416122</td>\n",
       "      <td>38.965142</td>\n",
       "      <td>10.510022</td>\n",
       "    </tr>\n",
       "    <tr>\n",
       "      <th>CB</th>\n",
       "      <td>2.792717</td>\n",
       "      <td>2.027311</td>\n",
       "      <td>40.680672</td>\n",
       "      <td>30.714286</td>\n",
       "      <td>65.776961</td>\n",
       "      <td>57.142857</td>\n",
       "      <td>32.384804</td>\n",
       "      <td>44.191176</td>\n",
       "      <td>36.370798</td>\n",
       "      <td>34.778011</td>\n",
       "      <td>...</td>\n",
       "      <td>66.961835</td>\n",
       "      <td>64.735994</td>\n",
       "      <td>35.115546</td>\n",
       "      <td>41.819328</td>\n",
       "      <td>41.619398</td>\n",
       "      <td>58.603291</td>\n",
       "      <td>65.140056</td>\n",
       "      <td>67.742297</td>\n",
       "      <td>65.309874</td>\n",
       "      <td>10.567507</td>\n",
       "    </tr>\n",
       "    <tr>\n",
       "      <th>CM</th>\n",
       "      <td>3.082157</td>\n",
       "      <td>2.607359</td>\n",
       "      <td>56.585685</td>\n",
       "      <td>51.821573</td>\n",
       "      <td>52.880040</td>\n",
       "      <td>68.606855</td>\n",
       "      <td>49.666331</td>\n",
       "      <td>63.787802</td>\n",
       "      <td>56.104335</td>\n",
       "      <td>53.340726</td>\n",
       "      <td>...</td>\n",
       "      <td>62.701109</td>\n",
       "      <td>57.722782</td>\n",
       "      <td>58.283770</td>\n",
       "      <td>63.818044</td>\n",
       "      <td>53.436492</td>\n",
       "      <td>62.139113</td>\n",
       "      <td>56.571069</td>\n",
       "      <td>58.810988</td>\n",
       "      <td>55.702117</td>\n",
       "      <td>10.493851</td>\n",
       "    </tr>\n",
       "    <tr>\n",
       "      <th>DM</th>\n",
       "      <td>2.999245</td>\n",
       "      <td>2.405283</td>\n",
       "      <td>53.680000</td>\n",
       "      <td>46.546415</td>\n",
       "      <td>57.586415</td>\n",
       "      <td>68.612075</td>\n",
       "      <td>45.012075</td>\n",
       "      <td>60.808302</td>\n",
       "      <td>51.533585</td>\n",
       "      <td>49.853585</td>\n",
       "      <td>...</td>\n",
       "      <td>68.692075</td>\n",
       "      <td>64.869434</td>\n",
       "      <td>52.987925</td>\n",
       "      <td>60.852075</td>\n",
       "      <td>51.539623</td>\n",
       "      <td>62.500377</td>\n",
       "      <td>63.566038</td>\n",
       "      <td>65.855094</td>\n",
       "      <td>62.566792</td>\n",
       "      <td>10.651925</td>\n",
       "    </tr>\n",
       "    <tr>\n",
       "      <th>FB</th>\n",
       "      <td>2.857475</td>\n",
       "      <td>2.417119</td>\n",
       "      <td>62.926026</td>\n",
       "      <td>40.057320</td>\n",
       "      <td>55.663826</td>\n",
       "      <td>61.531371</td>\n",
       "      <td>39.283888</td>\n",
       "      <td>61.455074</td>\n",
       "      <td>51.438033</td>\n",
       "      <td>43.619287</td>\n",
       "      <td>...</td>\n",
       "      <td>63.903563</td>\n",
       "      <td>62.754841</td>\n",
       "      <td>53.746321</td>\n",
       "      <td>51.206042</td>\n",
       "      <td>45.546476</td>\n",
       "      <td>58.274206</td>\n",
       "      <td>62.447715</td>\n",
       "      <td>65.469791</td>\n",
       "      <td>64.596824</td>\n",
       "      <td>10.513013</td>\n",
       "    </tr>\n",
       "    <tr>\n",
       "      <th>GK</th>\n",
       "      <td>2.490526</td>\n",
       "      <td>1.000000</td>\n",
       "      <td>14.254737</td>\n",
       "      <td>11.914737</td>\n",
       "      <td>14.344737</td>\n",
       "      <td>27.225263</td>\n",
       "      <td>12.322105</td>\n",
       "      <td>13.814737</td>\n",
       "      <td>14.645263</td>\n",
       "      <td>14.431053</td>\n",
       "      <td>...</td>\n",
       "      <td>26.382105</td>\n",
       "      <td>16.977368</td>\n",
       "      <td>11.197895</td>\n",
       "      <td>37.032105</td>\n",
       "      <td>19.884211</td>\n",
       "      <td>45.009474</td>\n",
       "      <td>15.237368</td>\n",
       "      <td>14.109474</td>\n",
       "      <td>14.042105</td>\n",
       "      <td>63.615895</td>\n",
       "    </tr>\n",
       "    <tr>\n",
       "      <th>ST</th>\n",
       "      <td>3.093498</td>\n",
       "      <td>2.589460</td>\n",
       "      <td>47.268168</td>\n",
       "      <td>66.748831</td>\n",
       "      <td>63.147471</td>\n",
       "      <td>58.381215</td>\n",
       "      <td>58.175521</td>\n",
       "      <td>63.384615</td>\n",
       "      <td>51.748831</td>\n",
       "      <td>44.810030</td>\n",
       "      <td>...</td>\n",
       "      <td>52.898428</td>\n",
       "      <td>26.776881</td>\n",
       "      <td>65.621334</td>\n",
       "      <td>55.603485</td>\n",
       "      <td>63.051849</td>\n",
       "      <td>60.620909</td>\n",
       "      <td>29.690183</td>\n",
       "      <td>25.958351</td>\n",
       "      <td>23.333617</td>\n",
       "      <td>10.522057</td>\n",
       "    </tr>\n",
       "    <tr>\n",
       "      <th>WG</th>\n",
       "      <td>3.145688</td>\n",
       "      <td>2.933211</td>\n",
       "      <td>62.402569</td>\n",
       "      <td>59.954128</td>\n",
       "      <td>49.078165</td>\n",
       "      <td>63.895413</td>\n",
       "      <td>53.817248</td>\n",
       "      <td>68.678899</td>\n",
       "      <td>58.749725</td>\n",
       "      <td>51.921468</td>\n",
       "      <td>...</td>\n",
       "      <td>50.334679</td>\n",
       "      <td>36.592661</td>\n",
       "      <td>62.249908</td>\n",
       "      <td>61.042936</td>\n",
       "      <td>56.537615</td>\n",
       "      <td>60.357431</td>\n",
       "      <td>39.768440</td>\n",
       "      <td>37.717064</td>\n",
       "      <td>35.729174</td>\n",
       "      <td>10.497615</td>\n",
       "    </tr>\n",
       "  </tbody>\n",
       "</table>\n",
       "<p>8 rows × 32 columns</p>\n",
       "</div>"
      ],
      "text/plain": [
       "                    Weak Foot  Skill Moves   Crossing  Finishing  \\\n",
       "SimplifiedPosition                                                 \n",
       "CAM                  3.216776     2.969499  59.940087  59.385621   \n",
       "CB                   2.792717     2.027311  40.680672  30.714286   \n",
       "CM                   3.082157     2.607359  56.585685  51.821573   \n",
       "DM                   2.999245     2.405283  53.680000  46.546415   \n",
       "FB                   2.857475     2.417119  62.926026  40.057320   \n",
       "GK                   2.490526     1.000000  14.254737  11.914737   \n",
       "ST                   3.093498     2.589460  47.268168  66.748831   \n",
       "WG                   3.145688     2.933211  62.402569  59.954128   \n",
       "\n",
       "                    HeadingAccuracy  ShortPassing    Volleys  Dribbling  \\\n",
       "SimplifiedPosition                                                        \n",
       "CAM                       49.092593     67.572985  55.821351  68.140523   \n",
       "CB                        65.776961     57.142857  32.384804  44.191176   \n",
       "CM                        52.880040     68.606855  49.666331  63.787802   \n",
       "DM                        57.586415     68.612075  45.012075  60.808302   \n",
       "FB                        55.663826     61.531371  39.283888  61.455074   \n",
       "GK                        14.344737     27.225263  12.322105  13.814737   \n",
       "ST                        63.147471     58.381215  58.175521  63.384615   \n",
       "WG                        49.078165     63.895413  53.817248  68.678899   \n",
       "\n",
       "                        Curve  FKAccuracy  ...  Aggression  Interceptions  \\\n",
       "SimplifiedPosition                         ...                              \n",
       "CAM                 61.309368   58.171024  ...   51.561002      39.643791   \n",
       "CB                  36.370798   34.778011  ...   66.961835      64.735994   \n",
       "CM                  56.104335   53.340726  ...   62.701109      57.722782   \n",
       "DM                  51.533585   49.853585  ...   68.692075      64.869434   \n",
       "FB                  51.438033   43.619287  ...   63.903563      62.754841   \n",
       "GK                  14.645263   14.431053  ...   26.382105      16.977368   \n",
       "ST                  51.748831   44.810030  ...   52.898428      26.776881   \n",
       "WG                  58.749725   51.921468  ...   50.334679      36.592661   \n",
       "\n",
       "                    Positioning     Vision  Penalties  Composure    Marking  \\\n",
       "SimplifiedPosition                                                            \n",
       "CAM                   62.199346  66.047930  58.178649  63.210240  40.057734   \n",
       "CB                    35.115546  41.819328  41.619398  58.603291  65.140056   \n",
       "CM                    58.283770  63.818044  53.436492  62.139113  56.571069   \n",
       "DM                    52.987925  60.852075  51.539623  62.500377  63.566038   \n",
       "FB                    53.746321  51.206042  45.546476  58.274206  62.447715   \n",
       "GK                    11.197895  37.032105  19.884211  45.009474  15.237368   \n",
       "ST                    65.621334  55.603485  63.051849  60.620909  29.690183   \n",
       "WG                    62.249908  61.042936  56.537615  60.357431  39.768440   \n",
       "\n",
       "                    StandingTackle  SlidingTackle  GoalkeeperRating  \n",
       "SimplifiedPosition                                                   \n",
       "CAM                      41.416122      38.965142         10.510022  \n",
       "CB                       67.742297      65.309874         10.567507  \n",
       "CM                       58.810988      55.702117         10.493851  \n",
       "DM                       65.855094      62.566792         10.651925  \n",
       "FB                       65.469791      64.596824         10.513013  \n",
       "GK                       14.109474      14.042105         63.615895  \n",
       "ST                       25.958351      23.333617         10.522057  \n",
       "WG                       37.717064      35.729174         10.497615  \n",
       "\n",
       "[8 rows x 32 columns]"
      ]
     },
     "execution_count": 163,
     "metadata": {},
     "output_type": "execute_result"
    }
   ],
   "source": [
    "position_group = df.groupby('SimplifiedPosition')\n",
    "position_group_attribute = pd.DataFrame(df.groupby('SimplifiedPosition').mean())\n",
    "#drop columns which are not specific attributes\n",
    "position_group_attribute.drop(['Age','ID','Overall','Potential','International Reputation'],axis=1,inplace=True)\n",
    "position_group_attribute "
   ]
  },
  {
   "cell_type": "code",
   "execution_count": 164,
   "metadata": {
    "colab": {
     "base_uri": "https://localhost:8080/",
     "height": 994
    },
    "executionInfo": {
     "elapsed": 1124,
     "status": "ok",
     "timestamp": 1619717277248,
     "user": {
      "displayName": "Jim Owen",
      "photoUrl": "https://lh3.googleusercontent.com/a-/AOh14Gg6nX8dnDJrxx0d0ekeclz0yd7tkx5op3_4sJH5LA=s64",
      "userId": "16542393695542225143"
     },
     "user_tz": -60
    },
    "id": "6Q2WcGq-NuT2",
    "outputId": "a13dba92-15d0-40e9-a3f2-21e55043f7d6"
   },
   "outputs": [
    {
     "data": {
      "text/html": [
       "<div>\n",
       "<style scoped>\n",
       "    .dataframe tbody tr th:only-of-type {\n",
       "        vertical-align: middle;\n",
       "    }\n",
       "\n",
       "    .dataframe tbody tr th {\n",
       "        vertical-align: top;\n",
       "    }\n",
       "\n",
       "    .dataframe thead th {\n",
       "        text-align: right;\n",
       "    }\n",
       "</style>\n",
       "<table border=\"1\" class=\"dataframe\">\n",
       "  <thead>\n",
       "    <tr style=\"text-align: right;\">\n",
       "      <th>SimplifiedPosition</th>\n",
       "      <th>CAM</th>\n",
       "      <th>CB</th>\n",
       "      <th>CM</th>\n",
       "      <th>DM</th>\n",
       "      <th>FB</th>\n",
       "      <th>GK</th>\n",
       "      <th>ST</th>\n",
       "      <th>WG</th>\n",
       "    </tr>\n",
       "  </thead>\n",
       "  <tbody>\n",
       "    <tr>\n",
       "      <th>Weak Foot</th>\n",
       "      <td>3.0</td>\n",
       "      <td>3.0</td>\n",
       "      <td>3.0</td>\n",
       "      <td>3.0</td>\n",
       "      <td>3.0</td>\n",
       "      <td>2.0</td>\n",
       "      <td>3.0</td>\n",
       "      <td>3.0</td>\n",
       "    </tr>\n",
       "    <tr>\n",
       "      <th>Skill Moves</th>\n",
       "      <td>3.0</td>\n",
       "      <td>2.0</td>\n",
       "      <td>3.0</td>\n",
       "      <td>2.0</td>\n",
       "      <td>2.0</td>\n",
       "      <td>1.0</td>\n",
       "      <td>3.0</td>\n",
       "      <td>3.0</td>\n",
       "    </tr>\n",
       "    <tr>\n",
       "      <th>Crossing</th>\n",
       "      <td>60.0</td>\n",
       "      <td>41.0</td>\n",
       "      <td>57.0</td>\n",
       "      <td>54.0</td>\n",
       "      <td>63.0</td>\n",
       "      <td>14.0</td>\n",
       "      <td>47.0</td>\n",
       "      <td>62.0</td>\n",
       "    </tr>\n",
       "    <tr>\n",
       "      <th>Finishing</th>\n",
       "      <td>59.0</td>\n",
       "      <td>31.0</td>\n",
       "      <td>52.0</td>\n",
       "      <td>47.0</td>\n",
       "      <td>40.0</td>\n",
       "      <td>12.0</td>\n",
       "      <td>67.0</td>\n",
       "      <td>60.0</td>\n",
       "    </tr>\n",
       "    <tr>\n",
       "      <th>HeadingAccuracy</th>\n",
       "      <td>49.0</td>\n",
       "      <td>66.0</td>\n",
       "      <td>53.0</td>\n",
       "      <td>58.0</td>\n",
       "      <td>56.0</td>\n",
       "      <td>14.0</td>\n",
       "      <td>63.0</td>\n",
       "      <td>49.0</td>\n",
       "    </tr>\n",
       "    <tr>\n",
       "      <th>ShortPassing</th>\n",
       "      <td>68.0</td>\n",
       "      <td>57.0</td>\n",
       "      <td>69.0</td>\n",
       "      <td>69.0</td>\n",
       "      <td>62.0</td>\n",
       "      <td>27.0</td>\n",
       "      <td>58.0</td>\n",
       "      <td>64.0</td>\n",
       "    </tr>\n",
       "    <tr>\n",
       "      <th>Volleys</th>\n",
       "      <td>56.0</td>\n",
       "      <td>32.0</td>\n",
       "      <td>50.0</td>\n",
       "      <td>45.0</td>\n",
       "      <td>39.0</td>\n",
       "      <td>12.0</td>\n",
       "      <td>58.0</td>\n",
       "      <td>54.0</td>\n",
       "    </tr>\n",
       "    <tr>\n",
       "      <th>Dribbling</th>\n",
       "      <td>68.0</td>\n",
       "      <td>44.0</td>\n",
       "      <td>64.0</td>\n",
       "      <td>61.0</td>\n",
       "      <td>61.0</td>\n",
       "      <td>14.0</td>\n",
       "      <td>63.0</td>\n",
       "      <td>69.0</td>\n",
       "    </tr>\n",
       "    <tr>\n",
       "      <th>Curve</th>\n",
       "      <td>61.0</td>\n",
       "      <td>36.0</td>\n",
       "      <td>56.0</td>\n",
       "      <td>52.0</td>\n",
       "      <td>51.0</td>\n",
       "      <td>15.0</td>\n",
       "      <td>52.0</td>\n",
       "      <td>59.0</td>\n",
       "    </tr>\n",
       "    <tr>\n",
       "      <th>FKAccuracy</th>\n",
       "      <td>58.0</td>\n",
       "      <td>35.0</td>\n",
       "      <td>53.0</td>\n",
       "      <td>50.0</td>\n",
       "      <td>44.0</td>\n",
       "      <td>14.0</td>\n",
       "      <td>45.0</td>\n",
       "      <td>52.0</td>\n",
       "    </tr>\n",
       "    <tr>\n",
       "      <th>LongPassing</th>\n",
       "      <td>62.0</td>\n",
       "      <td>52.0</td>\n",
       "      <td>65.0</td>\n",
       "      <td>65.0</td>\n",
       "      <td>55.0</td>\n",
       "      <td>26.0</td>\n",
       "      <td>46.0</td>\n",
       "      <td>57.0</td>\n",
       "    </tr>\n",
       "    <tr>\n",
       "      <th>BallControl</th>\n",
       "      <td>68.0</td>\n",
       "      <td>54.0</td>\n",
       "      <td>66.0</td>\n",
       "      <td>66.0</td>\n",
       "      <td>62.0</td>\n",
       "      <td>20.0</td>\n",
       "      <td>64.0</td>\n",
       "      <td>67.0</td>\n",
       "    </tr>\n",
       "    <tr>\n",
       "      <th>Acceleration</th>\n",
       "      <td>71.0</td>\n",
       "      <td>57.0</td>\n",
       "      <td>66.0</td>\n",
       "      <td>62.0</td>\n",
       "      <td>72.0</td>\n",
       "      <td>38.0</td>\n",
       "      <td>69.0</td>\n",
       "      <td>77.0</td>\n",
       "    </tr>\n",
       "    <tr>\n",
       "      <th>SprintSpeed</th>\n",
       "      <td>69.0</td>\n",
       "      <td>59.0</td>\n",
       "      <td>65.0</td>\n",
       "      <td>62.0</td>\n",
       "      <td>72.0</td>\n",
       "      <td>39.0</td>\n",
       "      <td>70.0</td>\n",
       "      <td>76.0</td>\n",
       "    </tr>\n",
       "    <tr>\n",
       "      <th>Agility</th>\n",
       "      <td>73.0</td>\n",
       "      <td>53.0</td>\n",
       "      <td>68.0</td>\n",
       "      <td>65.0</td>\n",
       "      <td>68.0</td>\n",
       "      <td>40.0</td>\n",
       "      <td>67.0</td>\n",
       "      <td>75.0</td>\n",
       "    </tr>\n",
       "    <tr>\n",
       "      <th>Reactions</th>\n",
       "      <td>62.0</td>\n",
       "      <td>61.0</td>\n",
       "      <td>63.0</td>\n",
       "      <td>64.0</td>\n",
       "      <td>62.0</td>\n",
       "      <td>59.0</td>\n",
       "      <td>62.0</td>\n",
       "      <td>61.0</td>\n",
       "    </tr>\n",
       "    <tr>\n",
       "      <th>Balance</th>\n",
       "      <td>73.0</td>\n",
       "      <td>55.0</td>\n",
       "      <td>70.0</td>\n",
       "      <td>66.0</td>\n",
       "      <td>69.0</td>\n",
       "      <td>43.0</td>\n",
       "      <td>65.0</td>\n",
       "      <td>74.0</td>\n",
       "    </tr>\n",
       "    <tr>\n",
       "      <th>ShotPower</th>\n",
       "      <td>64.0</td>\n",
       "      <td>50.0</td>\n",
       "      <td>63.0</td>\n",
       "      <td>62.0</td>\n",
       "      <td>53.0</td>\n",
       "      <td>22.0</td>\n",
       "      <td>66.0</td>\n",
       "      <td>64.0</td>\n",
       "    </tr>\n",
       "    <tr>\n",
       "      <th>Jumping</th>\n",
       "      <td>60.0</td>\n",
       "      <td>70.0</td>\n",
       "      <td>64.0</td>\n",
       "      <td>66.0</td>\n",
       "      <td>68.0</td>\n",
       "      <td>58.0</td>\n",
       "      <td>68.0</td>\n",
       "      <td>62.0</td>\n",
       "    </tr>\n",
       "    <tr>\n",
       "      <th>Stamina</th>\n",
       "      <td>63.0</td>\n",
       "      <td>64.0</td>\n",
       "      <td>70.0</td>\n",
       "      <td>72.0</td>\n",
       "      <td>72.0</td>\n",
       "      <td>30.0</td>\n",
       "      <td>64.0</td>\n",
       "      <td>66.0</td>\n",
       "    </tr>\n",
       "    <tr>\n",
       "      <th>Strength</th>\n",
       "      <td>56.0</td>\n",
       "      <td>76.0</td>\n",
       "      <td>63.0</td>\n",
       "      <td>69.0</td>\n",
       "      <td>65.0</td>\n",
       "      <td>61.0</td>\n",
       "      <td>69.0</td>\n",
       "      <td>58.0</td>\n",
       "    </tr>\n",
       "    <tr>\n",
       "      <th>LongShots</th>\n",
       "      <td>60.0</td>\n",
       "      <td>35.0</td>\n",
       "      <td>58.0</td>\n",
       "      <td>54.0</td>\n",
       "      <td>45.0</td>\n",
       "      <td>13.0</td>\n",
       "      <td>60.0</td>\n",
       "      <td>58.0</td>\n",
       "    </tr>\n",
       "    <tr>\n",
       "      <th>Aggression</th>\n",
       "      <td>52.0</td>\n",
       "      <td>67.0</td>\n",
       "      <td>63.0</td>\n",
       "      <td>69.0</td>\n",
       "      <td>64.0</td>\n",
       "      <td>26.0</td>\n",
       "      <td>53.0</td>\n",
       "      <td>50.0</td>\n",
       "    </tr>\n",
       "    <tr>\n",
       "      <th>Interceptions</th>\n",
       "      <td>40.0</td>\n",
       "      <td>65.0</td>\n",
       "      <td>58.0</td>\n",
       "      <td>65.0</td>\n",
       "      <td>63.0</td>\n",
       "      <td>17.0</td>\n",
       "      <td>27.0</td>\n",
       "      <td>37.0</td>\n",
       "    </tr>\n",
       "    <tr>\n",
       "      <th>Positioning</th>\n",
       "      <td>62.0</td>\n",
       "      <td>35.0</td>\n",
       "      <td>58.0</td>\n",
       "      <td>53.0</td>\n",
       "      <td>54.0</td>\n",
       "      <td>11.0</td>\n",
       "      <td>66.0</td>\n",
       "      <td>62.0</td>\n",
       "    </tr>\n",
       "    <tr>\n",
       "      <th>Vision</th>\n",
       "      <td>66.0</td>\n",
       "      <td>42.0</td>\n",
       "      <td>64.0</td>\n",
       "      <td>61.0</td>\n",
       "      <td>51.0</td>\n",
       "      <td>37.0</td>\n",
       "      <td>56.0</td>\n",
       "      <td>61.0</td>\n",
       "    </tr>\n",
       "    <tr>\n",
       "      <th>Penalties</th>\n",
       "      <td>58.0</td>\n",
       "      <td>42.0</td>\n",
       "      <td>53.0</td>\n",
       "      <td>52.0</td>\n",
       "      <td>46.0</td>\n",
       "      <td>20.0</td>\n",
       "      <td>63.0</td>\n",
       "      <td>57.0</td>\n",
       "    </tr>\n",
       "    <tr>\n",
       "      <th>Composure</th>\n",
       "      <td>63.0</td>\n",
       "      <td>59.0</td>\n",
       "      <td>62.0</td>\n",
       "      <td>63.0</td>\n",
       "      <td>58.0</td>\n",
       "      <td>45.0</td>\n",
       "      <td>61.0</td>\n",
       "      <td>60.0</td>\n",
       "    </tr>\n",
       "    <tr>\n",
       "      <th>Marking</th>\n",
       "      <td>40.0</td>\n",
       "      <td>65.0</td>\n",
       "      <td>57.0</td>\n",
       "      <td>64.0</td>\n",
       "      <td>62.0</td>\n",
       "      <td>15.0</td>\n",
       "      <td>30.0</td>\n",
       "      <td>40.0</td>\n",
       "    </tr>\n",
       "    <tr>\n",
       "      <th>StandingTackle</th>\n",
       "      <td>41.0</td>\n",
       "      <td>68.0</td>\n",
       "      <td>59.0</td>\n",
       "      <td>66.0</td>\n",
       "      <td>65.0</td>\n",
       "      <td>14.0</td>\n",
       "      <td>26.0</td>\n",
       "      <td>38.0</td>\n",
       "    </tr>\n",
       "    <tr>\n",
       "      <th>SlidingTackle</th>\n",
       "      <td>39.0</td>\n",
       "      <td>65.0</td>\n",
       "      <td>56.0</td>\n",
       "      <td>63.0</td>\n",
       "      <td>65.0</td>\n",
       "      <td>14.0</td>\n",
       "      <td>23.0</td>\n",
       "      <td>36.0</td>\n",
       "    </tr>\n",
       "    <tr>\n",
       "      <th>GoalkeeperRating</th>\n",
       "      <td>11.0</td>\n",
       "      <td>11.0</td>\n",
       "      <td>10.0</td>\n",
       "      <td>11.0</td>\n",
       "      <td>11.0</td>\n",
       "      <td>64.0</td>\n",
       "      <td>11.0</td>\n",
       "      <td>10.0</td>\n",
       "    </tr>\n",
       "  </tbody>\n",
       "</table>\n",
       "</div>"
      ],
      "text/plain": [
       "SimplifiedPosition   CAM    CB    CM    DM    FB    GK    ST    WG\n",
       "Weak Foot            3.0   3.0   3.0   3.0   3.0   2.0   3.0   3.0\n",
       "Skill Moves          3.0   2.0   3.0   2.0   2.0   1.0   3.0   3.0\n",
       "Crossing            60.0  41.0  57.0  54.0  63.0  14.0  47.0  62.0\n",
       "Finishing           59.0  31.0  52.0  47.0  40.0  12.0  67.0  60.0\n",
       "HeadingAccuracy     49.0  66.0  53.0  58.0  56.0  14.0  63.0  49.0\n",
       "ShortPassing        68.0  57.0  69.0  69.0  62.0  27.0  58.0  64.0\n",
       "Volleys             56.0  32.0  50.0  45.0  39.0  12.0  58.0  54.0\n",
       "Dribbling           68.0  44.0  64.0  61.0  61.0  14.0  63.0  69.0\n",
       "Curve               61.0  36.0  56.0  52.0  51.0  15.0  52.0  59.0\n",
       "FKAccuracy          58.0  35.0  53.0  50.0  44.0  14.0  45.0  52.0\n",
       "LongPassing         62.0  52.0  65.0  65.0  55.0  26.0  46.0  57.0\n",
       "BallControl         68.0  54.0  66.0  66.0  62.0  20.0  64.0  67.0\n",
       "Acceleration        71.0  57.0  66.0  62.0  72.0  38.0  69.0  77.0\n",
       "SprintSpeed         69.0  59.0  65.0  62.0  72.0  39.0  70.0  76.0\n",
       "Agility             73.0  53.0  68.0  65.0  68.0  40.0  67.0  75.0\n",
       "Reactions           62.0  61.0  63.0  64.0  62.0  59.0  62.0  61.0\n",
       "Balance             73.0  55.0  70.0  66.0  69.0  43.0  65.0  74.0\n",
       "ShotPower           64.0  50.0  63.0  62.0  53.0  22.0  66.0  64.0\n",
       "Jumping             60.0  70.0  64.0  66.0  68.0  58.0  68.0  62.0\n",
       "Stamina             63.0  64.0  70.0  72.0  72.0  30.0  64.0  66.0\n",
       "Strength            56.0  76.0  63.0  69.0  65.0  61.0  69.0  58.0\n",
       "LongShots           60.0  35.0  58.0  54.0  45.0  13.0  60.0  58.0\n",
       "Aggression          52.0  67.0  63.0  69.0  64.0  26.0  53.0  50.0\n",
       "Interceptions       40.0  65.0  58.0  65.0  63.0  17.0  27.0  37.0\n",
       "Positioning         62.0  35.0  58.0  53.0  54.0  11.0  66.0  62.0\n",
       "Vision              66.0  42.0  64.0  61.0  51.0  37.0  56.0  61.0\n",
       "Penalties           58.0  42.0  53.0  52.0  46.0  20.0  63.0  57.0\n",
       "Composure           63.0  59.0  62.0  63.0  58.0  45.0  61.0  60.0\n",
       "Marking             40.0  65.0  57.0  64.0  62.0  15.0  30.0  40.0\n",
       "StandingTackle      41.0  68.0  59.0  66.0  65.0  14.0  26.0  38.0\n",
       "SlidingTackle       39.0  65.0  56.0  63.0  65.0  14.0  23.0  36.0\n",
       "GoalkeeperRating    11.0  11.0  10.0  11.0  11.0  64.0  11.0  10.0"
      ]
     },
     "execution_count": 164,
     "metadata": {},
     "output_type": "execute_result"
    }
   ],
   "source": [
    "#transpose the data for a better view\n",
    "position_group_attribute=position_group_attribute.transpose()\n",
    "\n",
    "#round the dataframe for readability\n",
    "position_group_attribute = position_group_attribute.round(0)\n",
    "\n",
    "position_group_attribute"
   ]
  },
  {
   "cell_type": "markdown",
   "metadata": {
    "id": "VN6ATPkuJcq7"
   },
   "source": [
    "We can graph this dataframe to easily identify the differences in the average attributes: "
   ]
  },
  {
   "cell_type": "code",
   "execution_count": 165,
   "metadata": {
    "colab": {
     "base_uri": "https://localhost:8080/",
     "height": 1000
    },
    "executionInfo": {
     "elapsed": 3445,
     "status": "ok",
     "timestamp": 1619717283665,
     "user": {
      "displayName": "Jim Owen",
      "photoUrl": "https://lh3.googleusercontent.com/a-/AOh14Gg6nX8dnDJrxx0d0ekeclz0yd7tkx5op3_4sJH5LA=s64",
      "userId": "16542393695542225143"
     },
     "user_tz": -60
    },
    "id": "DMcN8M-kJhxY",
    "outputId": "5124821a-43fd-4013-d4f0-900cd4288c6e"
   },
   "outputs": [
    {
     "data": {
      "text/plain": [
       "<AxesSubplot:>"
      ]
     },
     "execution_count": 165,
     "metadata": {},
     "output_type": "execute_result"
    },
    {
     "data": {
      "image/png": "[encoded data removed]",
      "text/plain": [
       "<Figure size 576x396 with 1 Axes>"
      ]
     },
     "metadata": {},
     "output_type": "display_data"
    },
    {
     "data": {
      "image/png": "[encoded data removed]",
      "text/plain": [
       "<Figure size 576x396 with 1 Axes>"
      ]
     },
     "metadata": {},
     "output_type": "display_data"
    },
    {
     "data": {
      "image/png": "[encoded data removed]",
      "text/plain": [
       "<Figure size 576x396 with 1 Axes>"
      ]
     },
     "metadata": {},
     "output_type": "display_data"
    },
    {
     "data": {
      "image/png": "[encoded data removed]",
      "text/plain": [
       "<Figure size 576x396 with 1 Axes>"
      ]
     },
     "metadata": {},
     "output_type": "display_data"
    },
    {
     "data": {
      "image/png": "[encoded data removed]",
      "text/plain": [
       "<Figure size 576x396 with 1 Axes>"
      ]
     },
     "metadata": {},
     "output_type": "display_data"
    },
    {
     "data": {
      "image/png": "[encoded data removed]",
      "text/plain": [
       "<Figure size 576x396 with 1 Axes>"
      ]
     },
     "metadata": {},
     "output_type": "display_data"
    }
   ],
   "source": [
    "#create temporary df to make it easier to visually represent the columns \n",
    "temp_position_group_attribute = position_group_attribute\n",
    "\n",
    "#drop GK column, as Goalkeepers are already easily distinguished in the columns and are a big outlier when left in\n",
    "temp_position_group_attribute.drop(['GK'],axis=1,inplace=True)\n",
    "\n",
    "#drop Skill moves and weak foot columns as they are on a different scale\n",
    "#drop Goalkeeper rating as goalkeepers are not being assessed in this graph\n",
    "temp_position_group_attribute.drop(['Weak Foot','Skill Moves','GoalkeeperRating'],axis=0,inplace=True)\n",
    "\n",
    "#split the data in half to make it easier to view\n",
    "graph_1 = temp_position_group_attribute.iloc[:5]\n",
    "graph_2 = temp_position_group_attribute.iloc[6:10]\n",
    "graph_3 = temp_position_group_attribute.iloc[11:15]\n",
    "graph_4 = temp_position_group_attribute.iloc[16:20]\n",
    "graph_5 = temp_position_group_attribute.iloc[21:25]\n",
    "graph_6 = temp_position_group_attribute.iloc[25:]\n",
    "\n",
    "\n",
    "#plot the data\n",
    "graph_1.plot(kind='bar')\n",
    "graph_2.plot(kind='bar')\n",
    "graph_3.plot(kind='bar')\n",
    "graph_4.plot(kind='bar')\n",
    "graph_5.plot(kind='bar')\n",
    "graph_6.plot(kind='bar')"
   ]
  },
  {
   "cell_type": "markdown",
   "metadata": {
    "id": "rMRkBBK7LJlw"
   },
   "source": [
    "# Part 1: Predicting a players position\n",
    "\n",
    "#### From our exploration above, we can design metrics used to asses the player relative strengths. We have to take some decisions here about which metrics to use, something of a value judgement. To design my metrics, I have selected attributes for which at least one position scores very well or very badly. By using attributes which vary greatly by position, we have a better chance of classifying the data. "
   ]
  },
  {
   "cell_type": "code",
   "execution_count": 166,
   "metadata": {
    "executionInfo": {
     "elapsed": 978,
     "status": "ok",
     "timestamp": 1619717289461,
     "user": {
      "displayName": "Jim Owen",
      "photoUrl": "https://lh3.googleusercontent.com/a-/AOh14Gg6nX8dnDJrxx0d0ekeclz0yd7tkx5op3_4sJH5LA=s64",
      "userId": "16542393695542225143"
     },
     "user_tz": -60
    },
    "id": "paNl6PabLVrg"
   },
   "outputs": [],
   "source": [
    "#add the following columns to the dataframe\n",
    "\n",
    "#this creates a new column in the dataframe using the existing values, to judge the relative strengths\n",
    "df['Finishing_Marking'] = (df.Finishing / df.Marking )\n",
    "\n",
    "df['Agility_Strength'] = (df.Agility / df.Strength )\n",
    "df['Dribbling_StandTackle'] = (df.Dribbling / df.StandingTackle)\n",
    "df['GoalkeeperRating_Overall'] = (df.GoalkeeperRating / df.Overall)\n",
    "df['Vision_Finishing'] = (df.Vision / df.Finishing)\n",
    "df['Acceleration_Stamina'] = (df.Acceleration / df.Stamina)"
   ]
  },
  {
   "cell_type": "markdown",
   "metadata": {
    "id": "pnr8A7DwMX_Q"
   },
   "source": [
    "We can visualise these to help check the level of seperation"
   ]
  },
  {
   "cell_type": "code",
   "execution_count": 167,
   "metadata": {
    "colab": {
     "base_uri": "https://localhost:8080/",
     "height": 297
    },
    "executionInfo": {
     "elapsed": 1341,
     "status": "ok",
     "timestamp": 1619717293138,
     "user": {
      "displayName": "Jim Owen",
      "photoUrl": "https://lh3.googleusercontent.com/a-/AOh14Gg6nX8dnDJrxx0d0ekeclz0yd7tkx5op3_4sJH5LA=s64",
      "userId": "16542393695542225143"
     },
     "user_tz": -60
    },
    "id": "oQyEhB-cMgnJ",
    "outputId": "c3363add-d352-4fce-9231-54c489fdc140"
   },
   "outputs": [
    {
     "data": {
      "text/plain": [
       "<AxesSubplot:xlabel='Vision_Finishing', ylabel='Dribbling_StandTackle'>"
      ]
     },
     "execution_count": 167,
     "metadata": {},
     "output_type": "execute_result"
    },
    {
     "data": {
      "image/png": "[encoded data removed]",
      "text/plain": [
       "<Figure size 576x396 with 1 Axes>"
      ]
     },
     "metadata": {},
     "output_type": "display_data"
    }
   ],
   "source": [
    "#use a smaller version of the DF, as thousands of records are visually confusing\n",
    "short_df = df.head(300)\n",
    "sns.scatterplot(x = 'Vision_Finishing', y = 'Dribbling_StandTackle', data=short_df, hue = 'SimplifiedPosition' )"
   ]
  },
  {
   "cell_type": "code",
   "execution_count": 168,
   "metadata": {
    "colab": {
     "base_uri": "https://localhost:8080/",
     "height": 297
    },
    "executionInfo": {
     "elapsed": 1237,
     "status": "ok",
     "timestamp": 1619717297178,
     "user": {
      "displayName": "Jim Owen",
      "photoUrl": "https://lh3.googleusercontent.com/a-/AOh14Gg6nX8dnDJrxx0d0ekeclz0yd7tkx5op3_4sJH5LA=s64",
      "userId": "16542393695542225143"
     },
     "user_tz": -60
    },
    "id": "QoS2E2HJM0Me",
    "outputId": "c0e98a42-9da7-4256-d50d-fb80c817426f"
   },
   "outputs": [
    {
     "data": {
      "text/plain": [
       "<AxesSubplot:xlabel='Agility_Strength', ylabel='Finishing_Marking'>"
      ]
     },
     "execution_count": 168,
     "metadata": {},
     "output_type": "execute_result"
    },
    {
     "data": {
      "image/png": "[encoded data removed]",
      "text/plain": [
       "<Figure size 576x396 with 1 Axes>"
      ]
     },
     "metadata": {},
     "output_type": "display_data"
    }
   ],
   "source": [
    "sns.scatterplot(x = 'Agility_Strength', y = 'Finishing_Marking', data=short_df, hue = 'SimplifiedPosition' )"
   ]
  },
  {
   "cell_type": "markdown",
   "metadata": {
    "id": "et--Yj9hNd5a"
   },
   "source": [
    "# KNN model\n",
    "\n",
    "#### To predict the positions, we will initially use the KNN model, which looks at the values associated with the nearest neighbours."
   ]
  },
  {
   "cell_type": "code",
   "execution_count": 169,
   "metadata": {
    "colab": {
     "base_uri": "https://localhost:8080/"
    },
    "executionInfo": {
     "elapsed": 1451,
     "status": "ok",
     "timestamp": 1619717302607,
     "user": {
      "displayName": "Jim Owen",
      "photoUrl": "https://lh3.googleusercontent.com/a-/AOh14Gg6nX8dnDJrxx0d0ekeclz0yd7tkx5op3_4sJH5LA=s64",
      "userId": "16542393695542225143"
     },
     "user_tz": -60
    },
    "id": "m5k3v3GEOhhL",
    "outputId": "7019af21-f0f2-4915-a922-a7e54da57fde"
   },
   "outputs": [
    {
     "name": "stderr",
     "output_type": "stream",
     "text": [
      "<ipython-input-169-246ed5187f14>:19: DataConversionWarning: A column-vector y was passed when a 1d array was expected. Please change the shape of y to (n_samples, ), for example using ravel().\n",
      "  knn.fit(x_train,y_train)\n"
     ]
    },
    {
     "name": "stdout",
     "output_type": "stream",
     "text": [
      "Accuracy score of KNN model = 0.63\n"
     ]
    }
   ],
   "source": [
    "#create the feature and target variables\n",
    "\n",
    "fifa_feature_data = df[['Finishing_Marking','Agility_Strength','Dribbling_StandTackle','GoalkeeperRating_Overall','Vision_Finishing','Acceleration_Stamina']]\n",
    "fifa_target_data = df[['SimplifiedPosition']]\n",
    "\n",
    "#create the x and y variables \n",
    "x = fifa_feature_data\n",
    "y = fifa_target_data\n",
    "\n",
    "#import the classifying algorithmn, set nearest neighbours equal to 4 to begin with\n",
    "from sklearn.neighbors import KNeighborsClassifier\n",
    "knn = KNeighborsClassifier(n_neighbors=4)\n",
    "\n",
    "#import the train-test-split, which we will use to evaluate our model\n",
    "from sklearn.model_selection import train_test_split\n",
    "x_train,x_test , y_train, y_test = train_test_split(x,y, test_size = 0.4, random_state = 4)\n",
    "\n",
    "#fit the testing data\n",
    "knn.fit(x_train,y_train)\n",
    "\n",
    "#use the test data to check how accurate the predictins were:\n",
    "import sklearn.metrics as metrics\n",
    "y_predict_Knn4 = knn.predict(x_test)\n",
    "#compares the predicted values with the observed values\n",
    "accuracy_KNN = metrics.accuracy_score(y_test,y_predict_Knn4)\n",
    "\n",
    "print('Accuracy score of KNN model = '+str(round(accuracy_KNN,2)))"
   ]
  },
  {
   "cell_type": "markdown",
   "metadata": {
    "id": "wD7DL0bUP-8q"
   },
   "source": [
    "We can refine this model further by finding the best value for 'K' (the number of neighbours the model uses to evaluate)"
   ]
  },
  {
   "cell_type": "code",
   "execution_count": 170,
   "metadata": {
    "colab": {
     "base_uri": "https://localhost:8080/",
     "height": 281
    },
    "executionInfo": {
     "elapsed": 19362,
     "status": "ok",
     "timestamp": 1619717353069,
     "user": {
      "displayName": "Jim Owen",
      "photoUrl": "https://lh3.googleusercontent.com/a-/AOh14Gg6nX8dnDJrxx0d0ekeclz0yd7tkx5op3_4sJH5LA=s64",
      "userId": "16542393695542225143"
     },
     "user_tz": -60
    },
    "id": "vaxtCa3-QIm3",
    "outputId": "c591b4ef-ee58-4e5a-aca9-de154cab05ac"
   },
   "outputs": [
    {
     "data": {
      "text/plain": [
       "[<matplotlib.lines.Line2D at 0x2105a6263a0>]"
      ]
     },
     "execution_count": 170,
     "metadata": {},
     "output_type": "execute_result"
    },
    {
     "data": {
      "image/png": "[encoded data removed]",
      "text/plain": [
       "<Figure size 576x396 with 1 Axes>"
      ]
     },
     "metadata": {},
     "output_type": "display_data"
    }
   ],
   "source": [
    "k_range = range(1,50)\n",
    "\n",
    "scores = []\n",
    "\n",
    "#use a for-loop to test each value of K \n",
    "\n",
    "for k in k_range:\n",
    "    knn = KNeighborsClassifier(n_neighbors=k)\n",
    "    knn.fit(x_train , np.ravel(y_train))\n",
    "    y_pred = knn.predict(x_test)\n",
    "    accuracy = metrics.accuracy_score(y_test,y_pred)\n",
    "    scores.append(accuracy)\n",
    "\n",
    "#plot the values to visualise the accuracy results\n",
    "\n",
    "plt.plot(k_range,scores)"
   ]
  },
  {
   "cell_type": "markdown",
   "metadata": {
    "id": "VCTNzR0eQhl_"
   },
   "source": [
    "As we can see, the accuracy increases until we reach a value of 15, at which point a platau is reached. 15 therefore seems a reasonable number of neighbours to choose. "
   ]
  },
  {
   "cell_type": "markdown",
   "metadata": {
    "id": "IvDg6dUvazhd"
   },
   "source": [
    "To better understand the areas in which the model has mis-specified, we can use the Confusion Matrix."
   ]
  },
  {
   "cell_type": "code",
   "execution_count": 171,
   "metadata": {
    "colab": {
     "base_uri": "https://localhost:8080/",
     "height": 434
    },
    "executionInfo": {
     "elapsed": 2021,
     "status": "ok",
     "timestamp": 1619717377084,
     "user": {
      "displayName": "Jim Owen",
      "photoUrl": "https://lh3.googleusercontent.com/a-/AOh14Gg6nX8dnDJrxx0d0ekeclz0yd7tkx5op3_4sJH5LA=s64",
      "userId": "16542393695542225143"
     },
     "user_tz": -60
    },
    "id": "DvqSt6-LbH4H",
    "outputId": "293023a4-654d-41b6-961b-15af200242ec"
   },
   "outputs": [
    {
     "data": {
      "text/plain": [
       "0.678882547311505"
      ]
     },
     "execution_count": 171,
     "metadata": {},
     "output_type": "execute_result"
    },
    {
     "data": {
      "image/png": "[encoded data removed]",
      "text/plain": [
       "<Figure size 576x396 with 1 Axes>"
      ]
     },
     "metadata": {},
     "output_type": "display_data"
    }
   ],
   "source": [
    "from yellowbrick.classifier import ConfusionMatrix\n",
    "cm = ConfusionMatrix(knn)\n",
    "#this compares the predicted and the observed values\n",
    "cm.fit(x_train , np.ravel(y_train))\n",
    "cm.score(x_test, np.ravel(y_test))"
   ]
  },
  {
   "cell_type": "markdown",
   "metadata": {
    "id": "q4xCIvhkbZ4v"
   },
   "source": [
    "We can see that there a quite a lot of case sin which a 'CAM' was predicted, but the observed value was 'WG'. To help the moddel differentiate the two positions, we add another variable, for which we would expect a 'WG' to have a value > 1, but a CAM to have a value < 1.\n",
    "\n"
   ]
  },
  {
   "cell_type": "code",
   "execution_count": 172,
   "metadata": {
    "executionInfo": {
     "elapsed": 1120,
     "status": "ok",
     "timestamp": 1619717382489,
     "user": {
      "displayName": "Jim Owen",
      "photoUrl": "https://lh3.googleusercontent.com/a-/AOh14Gg6nX8dnDJrxx0d0ekeclz0yd7tkx5op3_4sJH5LA=s64",
      "userId": "16542393695542225143"
     },
     "user_tz": -60
    },
    "id": "VkUNQN2QdMSg"
   },
   "outputs": [],
   "source": [
    "df['SprintSpeed_FKAccuracy'] = (df.SprintSpeed / df.FKAccuracy)"
   ]
  },
  {
   "cell_type": "markdown",
   "metadata": {
    "id": "aO1Qp3Mce6ob"
   },
   "source": [
    "This time, we can use cross validation, to make sure that our test results aren't biased by an unrepresentative sample. "
   ]
  },
  {
   "cell_type": "code",
   "execution_count": 173,
   "metadata": {
    "colab": {
     "base_uri": "https://localhost:8080/"
    },
    "executionInfo": {
     "elapsed": 2378,
     "status": "ok",
     "timestamp": 1619717387138,
     "user": {
      "displayName": "Jim Owen",
      "photoUrl": "https://lh3.googleusercontent.com/a-/AOh14Gg6nX8dnDJrxx0d0ekeclz0yd7tkx5op3_4sJH5LA=s64",
      "userId": "16542393695542225143"
     },
     "user_tz": -60
    },
    "id": "48KQZ_4OeVXC",
    "outputId": "85f7d30c-4297-4843-8c7b-61f45012cfb0"
   },
   "outputs": [
    {
     "name": "stdout",
     "output_type": "stream",
     "text": [
      "[0.68421053 0.68060562 0.68240807 0.66186013 0.66726748 0.65813199]\n"
     ]
    }
   ],
   "source": [
    "from sklearn.model_selection import cross_validate\n",
    "from sklearn.neighbors import KNeighborsClassifier\n",
    "\n",
    "\n",
    "#create the feature and target variables\n",
    "\n",
    "fifa_feature_data_2 = df[['Finishing_Marking','Agility_Strength','Dribbling_StandTackle','GoalkeeperRating_Overall','Vision_Finishing','Acceleration_Stamina','SprintSpeed_FKAccuracy']]\n",
    "fifa_target_data_2 = df[['SimplifiedPosition']]\n",
    "\n",
    "#create the x and y variables \n",
    "x = fifa_feature_data_2\n",
    "y = fifa_target_data_2\n",
    "\n",
    "#Use the value of 15 learned from the previous experiment\n",
    "clf = KNeighborsClassifier(n_neighbors=15)\n",
    "\n",
    "cv1 = cross_validate(clf, x, np.ravel(y), cv=6)\n",
    "print(cv1['test_score'])"
   ]
  },
  {
   "cell_type": "markdown",
   "metadata": {
    "id": "rSZYtr01Tiul"
   },
   "source": [
    "It looks like the extra attribute has slightly increased the success rate of our model. "
   ]
  },
  {
   "cell_type": "markdown",
   "metadata": {},
   "source": [
    "# Logistic Regression\n",
    "\n",
    "#### To see if better results can be achieved using a different machine-learning method, we can use Logistic regression"
   ]
  },
  {
   "cell_type": "code",
   "execution_count": 174,
   "metadata": {
    "colab": {
     "base_uri": "https://localhost:8080/"
    },
    "executionInfo": {
     "elapsed": 2143,
     "status": "ok",
     "timestamp": 1619717392420,
     "user": {
      "displayName": "Jim Owen",
      "photoUrl": "https://lh3.googleusercontent.com/a-/AOh14Gg6nX8dnDJrxx0d0ekeclz0yd7tkx5op3_4sJH5LA=s64",
      "userId": "16542393695542225143"
     },
     "user_tz": -60
    },
    "id": "K2nxbdHPUFfO",
    "outputId": "b4e6fba8-402f-40dd-a664-7ae898b1d37a"
   },
   "outputs": [
    {
     "name": "stdout",
     "output_type": "stream",
     "text": [
      "Accuracy score of LR model = 0.69\n"
     ]
    },
    {
     "name": "stderr",
     "output_type": "stream",
     "text": [
      "C:\\Users\\jowen\\anaconda3\\lib\\site-packages\\sklearn\\linear_model\\_logistic.py:762: ConvergenceWarning: lbfgs failed to converge (status=1):\n",
      "STOP: TOTAL NO. of ITERATIONS REACHED LIMIT.\n",
      "\n",
      "Increase the number of iterations (max_iter) or scale the data as shown in:\n",
      "    https://scikit-learn.org/stable/modules/preprocessing.html\n",
      "Please also refer to the documentation for alternative solver options:\n",
      "    https://scikit-learn.org/stable/modules/linear_model.html#logistic-regression\n",
      "  n_iter_i = _check_optimize_result(\n"
     ]
    }
   ],
   "source": [
    "from sklearn.linear_model import LogisticRegression\n",
    "\n",
    "#re-use the train test split code to make sure they reference the new values\n",
    "x_train,x_test , y_train, y_test = train_test_split(x,y, test_size = 0.4, random_state = 4)\n",
    "\n",
    "logreg=LogisticRegression()\n",
    "\n",
    "#fits the training data\n",
    "logreg.fit(x_train , np.ravel(y_train))\n",
    "\n",
    "#create a variable to store the predicted values of y\n",
    "y_pred = logreg.predict(x_test)\n",
    "\n",
    "#compare these values to the observed y_test values\n",
    "accuracy_logistic = metrics.accuracy_score(y_test,y_pred)\n",
    "\n",
    "print('Accuracy score of LR model = '+str(round(accuracy_logistic,2)))"
   ]
  },
  {
   "cell_type": "markdown",
   "metadata": {
    "id": "J_nG7BkKU50o"
   },
   "source": [
    "As we can see, using the logistic regression gives a similar score to the KNN model. "
   ]
  },
  {
   "cell_type": "markdown",
   "metadata": {},
   "source": [
    "# Decision Tree Algorithm\n",
    "\n",
    "#### There is one further machine learning algorithym we can try, which is the decision tree algorithym. This attempts to classify the data by moving through it sequentially, classifying the data as it moves through based on which offers the highest information gain. By creating new catagories for the model which give it a lot of information about the player, the model should be able to create the decision tree. \n",
    "\n",
    "#### To do this, we must first manipulate our data to make it easier to use."
   ]
  },
  {
   "cell_type": "code",
   "execution_count": 175,
   "metadata": {
    "executionInfo": {
     "elapsed": 803,
     "status": "ok",
     "timestamp": 1619717397364,
     "user": {
      "displayName": "Jim Owen",
      "photoUrl": "https://lh3.googleusercontent.com/a-/AOh14Gg6nX8dnDJrxx0d0ekeclz0yd7tkx5op3_4sJH5LA=s64",
      "userId": "16542393695542225143"
     },
     "user_tz": -60
    },
    "id": "4I67g0CmGWjl"
   },
   "outputs": [],
   "source": [
    "#remove CAM, as it has very few players and it is difficult to seperate as shown above\n",
    "def f(row):\n",
    "    if row['SimplifiedPosition'] == 'CAM':\n",
    "        val = 'CM'\n",
    "    if row['SimplifiedPosition'] == 'DM':\n",
    "        val = 'CM'\n",
    "    else:\n",
    "        val = row['SimplifiedPosition']\n",
    "    return val\n",
    "\n",
    "df['SimplifiedPosition'] = df.apply(f, axis=1)\n",
    "\n",
    "#create an 'attacker of defender' metric, which is a bollean showing true if \n",
    "#the players 'attacking' stats are greater than the defensive stats\n",
    "\n",
    "df['Attacker'] = (df.Marking + df.SlidingTackle) / (df.Finishing +df.Dribbling)\n",
    "df['Attacker'] =  np.where(df['Attacker'] < 1 , True, False)\n",
    "\n",
    "#create a 'wide player or central player' metric, which decribes if the player has attributes which suit a wide position\n",
    "# (agility/balance etc) or attributes which lends themselves to a central position (strngth, stamina etc)\n",
    "df['WidePlayer'] = (df.Acceleration + df.Agility) / (df.Strength +df.Aggression)\n",
    "df['WidePlayer'] =  np.where(df['WidePlayer'] < 1 , True, False)\n",
    "\n",
    "#create a metric which identifies the goalkeepers:\n",
    "df['GoalKeeper'] =  np.where(df['GoalkeeperRating'] > 50 , True, False)\n",
    "\n",
    "#create the feature and target variables\n",
    "\n",
    "fifa_feature_data_3 = df[['WidePlayer','GoalKeeper','Attacker']]\n",
    "fifa_target_data_3 = df[['SimplifiedPosition']]\n",
    "\n",
    "#create the x and y variables \n",
    "x = fifa_feature_data_3\n",
    "y = fifa_target_data_3\n",
    "\n",
    "#re-use the train test split code to make sure they reference the new values\n",
    "x_train,x_test , y_train, y_test = train_test_split(x,y, test_size = 0.4, random_state = 4)\n",
    "\n"
   ]
  },
  {
   "cell_type": "code",
   "execution_count": 176,
   "metadata": {
    "colab": {
     "base_uri": "https://localhost:8080/",
     "height": 481
    },
    "executionInfo": {
     "elapsed": 996,
     "status": "ok",
     "timestamp": 1619719071832,
     "user": {
      "displayName": "Jim Owen",
      "photoUrl": "https://lh3.googleusercontent.com/a-/AOh14Gg6nX8dnDJrxx0d0ekeclz0yd7tkx5op3_4sJH5LA=s64",
      "userId": "16542393695542225143"
     },
     "user_tz": -60
    },
    "id": "qjYvmvZi1TGH",
    "outputId": "cbca914f-4b45-450e-9607-bb7155ebfc82"
   },
   "outputs": [
    {
     "data": {
      "text/plain": [
       "[Text(279.0, 261.6075, 'X[1] <= 0.5\\ngini = 0.844\\nsamples = 9985\\nvalue = [542, 1736, 1967, 1558, 1156, 1393, 1633]'),\n",
       " Text(223.2, 186.8625, 'X[2] <= 0.5\\ngini = 0.818\\nsamples = 8843\\nvalue = [542, 1736, 1967, 1558, 14, 1393, 1633]'),\n",
       " Text(111.6, 112.1175, 'X[0] <= 0.5\\ngini = 0.681\\nsamples = 4578\\nvalue = [21, 1724, 1246, 1468, 12, 0, 107]'),\n",
       " Text(55.8, 37.3725, 'gini = 0.576\\nsamples = 1806\\nvalue = [11, 172, 485, 1055, 2, 0, 81]'),\n",
       " Text(167.39999999999998, 37.3725, 'gini = 0.589\\nsamples = 2772\\nvalue = [10, 1552, 761, 413, 10, 0, 26]'),\n",
       " Text(334.79999999999995, 112.1175, 'X[0] <= 0.5\\ngini = 0.721\\nsamples = 4265\\nvalue = [521, 12, 721, 90, 2, 1393, 1526]'),\n",
       " Text(279.0, 37.3725, 'gini = 0.71\\nsamples = 3494\\nvalue = [470, 5, 531, 79, 0, 945, 1464]'),\n",
       " Text(390.59999999999997, 37.3725, 'gini = 0.591\\nsamples = 771\\nvalue = [51, 7, 190, 11, 2, 448, 62]'),\n",
       " Text(334.79999999999995, 186.8625, 'gini = 0.0\\nsamples = 1142\\nvalue = [0, 0, 0, 0, 1142, 0, 0]')]"
      ]
     },
     "execution_count": 176,
     "metadata": {},
     "output_type": "execute_result"
    },
    {
     "data": {
      "image/png": "[encoded data removed]",
      "text/plain": [
       "<Figure size 576x396 with 1 Axes>"
      ]
     },
     "metadata": {},
     "output_type": "display_data"
    }
   ],
   "source": [
    "from sklearn import tree\n",
    "\n",
    "clf = tree.DecisionTreeClassifier() \n",
    "\n",
    "#fit the model with the training data\n",
    "clf=clf.fit(x_train,y_train) \n",
    "\n",
    "#create a variable to store the predicted values of y\n",
    "y_pred = clf.predict(x_test) \n",
    "\n",
    "#evaluate the model by comparing predicted values to observed values\n",
    "\n",
    "metrics.accuracy_score(y_test, y_pred)\n",
    "\n",
    "#plot the decision tree to see the results\n",
    "#plt.figure(figsize=((25,15))\n",
    "tree.plot_tree(clf) "
   ]
  },
  {
   "cell_type": "code",
   "execution_count": 177,
   "metadata": {
    "colab": {
     "base_uri": "https://localhost:8080/"
    },
    "executionInfo": {
     "elapsed": 890,
     "status": "ok",
     "timestamp": 1619718218831,
     "user": {
      "displayName": "Jim Owen",
      "photoUrl": "https://lh3.googleusercontent.com/a-/AOh14Gg6nX8dnDJrxx0d0ekeclz0yd7tkx5op3_4sJH5LA=s64",
      "userId": "16542393695542225143"
     },
     "user_tz": -60
    },
    "id": "_nh204q8tPwc",
    "outputId": "cbb28fb8-a473-4b26-ed0f-a99b46ed51cd"
   },
   "outputs": [
    {
     "name": "stdout",
     "output_type": "stream",
     "text": [
      "|--- feature_1 <= 0.50\n",
      "|   |--- feature_2 <= 0.50\n",
      "|   |   |--- feature_0 <= 0.50\n",
      "|   |   |   |--- class: FB\n",
      "|   |   |--- feature_0 >  0.50\n",
      "|   |   |   |--- class: CB\n",
      "|   |--- feature_2 >  0.50\n",
      "|   |   |--- feature_0 <= 0.50\n",
      "|   |   |   |--- class: WG\n",
      "|   |   |--- feature_0 >  0.50\n",
      "|   |   |   |--- class: ST\n",
      "|--- feature_1 >  0.50\n",
      "|   |--- class: GK\n",
      "\n"
     ]
    }
   ],
   "source": [
    "#can output text from the model\n",
    "from sklearn.tree import export_text\n",
    "r = export_text(clf)\n",
    "print(r)"
   ]
  },
  {
   "cell_type": "markdown",
   "metadata": {
    "id": "PFmGrVa2jltx"
   },
   "source": [
    "# Unsupervised Learning: K-Means clustering\n",
    "\n",
    "#### We can also attempt to analyse this data using an unsupervised machine learning algorithmn. However, in order to keep this simple, we will need to create a simplified form of our dataset. "
   ]
  },
  {
   "cell_type": "code",
   "execution_count": 178,
   "metadata": {
    "colab": {
     "base_uri": "https://localhost:8080/"
    },
    "executionInfo": {
     "elapsed": 1512,
     "status": "ok",
     "timestamp": 1619719720912,
     "user": {
      "displayName": "Jim Owen",
      "photoUrl": "https://lh3.googleusercontent.com/a-/AOh14Gg6nX8dnDJrxx0d0ekeclz0yd7tkx5op3_4sJH5LA=s64",
      "userId": "16542393695542225143"
     },
     "user_tz": -60
    },
    "id": "2ikpg-1hj0ZZ",
    "outputId": "ab1fe6d3-6da6-473e-915a-5dfda6f4945b"
   },
   "outputs": [
    {
     "name": "stderr",
     "output_type": "stream",
     "text": [
      "C:\\Users\\jowen\\anaconda3\\lib\\site-packages\\pandas\\core\\frame.py:4163: SettingWithCopyWarning: \n",
      "A value is trying to be set on a copy of a slice from a DataFrame\n",
      "\n",
      "See the caveats in the documentation: https://pandas.pydata.org/pandas-docs/stable/user_guide/indexing.html#returning-a-view-versus-a-copy\n",
      "  return super().drop(\n"
     ]
    }
   ],
   "source": [
    "# further simplify positions by grouping them into just three catagories; Defender (DF), Midfielder (MF), Attacker (AT)\n",
    "def f(row):\n",
    "    if row['SimplifiedPosition'] == 'FB':\n",
    "        val = 'DF'\n",
    "    elif row['SimplifiedPosition'] == 'CB':\n",
    "        val = 'DF'\n",
    "    elif row['SimplifiedPosition'] == 'DM':\n",
    "        val = 'MF'\n",
    "    elif row['SimplifiedPosition'] == 'CM':\n",
    "        val = 'MF'\n",
    "    elif row['SimplifiedPosition'] == 'WG':\n",
    "        val = 'AT'\n",
    "    elif row['SimplifiedPosition'] == 'ST':\n",
    "        val = 'AT'\n",
    "    elif row['SimplifiedPosition'] == 'CAM':\n",
    "        val = 'AT'\n",
    "    else:\n",
    "        val = row['SimplifiedPosition']\n",
    "    return val\n",
    "\n",
    "#create new column ' further simplified poisiton' using the function above\n",
    "df['FurtherSimplifiedPosition'] = df.apply(f, axis=1)\n",
    "\n",
    "\n",
    "#since the simplification of the postions means that we do not have to be so precise with ourr metrics, \n",
    "#we can can create two new simplified columns to more easily examine the data\n",
    "\n",
    "df['Defending/Attincking_1'] = (df.Marking + df.SlidingTackle) / (df.Finishing +df.Crossing)\n",
    "df['Defending/Attincking_2'] = (df.StandingTackle + df.Interceptions)  / (df.Dribbling +df.BallControl)\n",
    "\n",
    "#create a new dataframe to hold this data\n",
    "simplified_df = df[['Defending/Attincking_1','Defending/Attincking_2','FurtherSimplifiedPosition']]\n",
    "\n",
    "#to further simplify, drop Goalkeepers\n",
    "\n",
    "index_names = simplified_df[ simplified_df['FurtherSimplifiedPosition'] == 'GK' ].index\n",
    "simplified_df.drop(index_names, inplace = True)\n"
   ]
  },
  {
   "cell_type": "code",
   "execution_count": 179,
   "metadata": {
    "colab": {
     "base_uri": "https://localhost:8080/",
     "height": 377
    },
    "executionInfo": {
     "elapsed": 1278,
     "status": "ok",
     "timestamp": 1619719726341,
     "user": {
      "displayName": "Jim Owen",
      "photoUrl": "https://lh3.googleusercontent.com/a-/AOh14Gg6nX8dnDJrxx0d0ekeclz0yd7tkx5op3_4sJH5LA=s64",
      "userId": "16542393695542225143"
     },
     "user_tz": -60
    },
    "id": "AaU-Naoj4-pD",
    "outputId": "c9257fec-c5b4-4945-c92c-759ce4987def"
   },
   "outputs": [
    {
     "data": {
      "text/plain": [
       "<AxesSubplot:xlabel='Defending/Attincking_1', ylabel='Defending/Attincking_2'>"
      ]
     },
     "execution_count": 179,
     "metadata": {},
     "output_type": "execute_result"
    },
    {
     "data": {
      "image/png": "[encoded data removed]",
      "text/plain": [
       "<Figure size 576x396 with 1 Axes>"
      ]
     },
     "metadata": {},
     "output_type": "display_data"
    }
   ],
   "source": [
    "#plot the data to check for clusters: \n",
    "sns.scatterplot(x = 'Defending/Attincking_1', y = 'Defending/Attincking_2', data=simplified_df.head(1000), hue = 'FurtherSimplifiedPosition' )"
   ]
  },
  {
   "cell_type": "markdown",
   "metadata": {
    "id": "yvGbNZotsgXm"
   },
   "source": [
    "As we can see, there is some clustering. As we are looking for three clusters, I will set k = 3"
   ]
  },
  {
   "cell_type": "code",
   "execution_count": 180,
   "metadata": {
    "colab": {
     "base_uri": "https://localhost:8080/"
    },
    "executionInfo": {
     "elapsed": 812,
     "status": "ok",
     "timestamp": 1619719729374,
     "user": {
      "displayName": "Jim Owen",
      "photoUrl": "https://lh3.googleusercontent.com/a-/AOh14Gg6nX8dnDJrxx0d0ekeclz0yd7tkx5op3_4sJH5LA=s64",
      "userId": "16542393695542225143"
     },
     "user_tz": -60
    },
    "id": "Ic0laqpX8Crl",
    "outputId": "271cd6eb-e1cf-474f-e47a-b1db381bbe73"
   },
   "outputs": [
    {
     "name": "stdout",
     "output_type": "stream",
     "text": [
      "[2]\n",
      "[0]\n",
      "[1]\n"
     ]
    }
   ],
   "source": [
    "from sklearn.cluster import KMeans\n",
    "#create the new x and y variables \n",
    "\n",
    "simplified_df = df[['Defending/Attincking_1','Defending/Attincking_2','FurtherSimplifiedPosition']]\n",
    "\n",
    "#create the feature and target variables\n",
    "\n",
    "fifa_feature_data_4 = simplified_df[['Defending/Attincking_1','Defending/Attincking_2']]\n",
    "fifa_target_data_4 = simplified_df[['FurtherSimplifiedPosition']]\n",
    "\n",
    "#create the x and y variables \n",
    "x = fifa_feature_data_4\n",
    "y = fifa_target_data_4\n",
    "\n",
    "\n",
    "\n",
    "# declare the model\n",
    "model = KMeans(n_clusters=3)\n",
    "\n",
    "# fit the model to the test data \n",
    "model.fit(x)\n",
    "\n",
    "# Predicitng a single input\n",
    "\n",
    "#'typical' attacker\n",
    "predicted_label_1 = model.predict([[0.5,0.5]])\n",
    "print(predicted_label_1)\n",
    "\n",
    "#typical defender\n",
    "predicted_label_2 = model.predict([[1.0,1.0]])\n",
    "print(predicted_label_2)\n",
    "\n",
    "#typical midefielder\n",
    "predicted_label_3 = model.predict([[2,2]])\n",
    "print(predicted_label_3)\n"
   ]
  },
  {
   "cell_type": "markdown",
   "metadata": {
    "id": "wezlbVJvsI-U"
   },
   "source": [
    "\n",
    "# Part 2: Predicting a player's value. \n",
    "\n",
    "#### This data also contains a column which represents the player's 'Value', which acts a benchmark for much much it will cost to buy the player for your own team. It should be possible to predict this value based on the other attributes a players has.  \n",
    "\n",
    "#### To do this, we must first clean the data, as neither the 'Value' nor the 'Wage' columns are integers. "
   ]
  },
  {
   "cell_type": "code",
   "execution_count": 181,
   "metadata": {
    "colab": {
     "base_uri": "https://localhost:8080/"
    },
    "executionInfo": {
     "elapsed": 766,
     "status": "ok",
     "timestamp": 1619719753105,
     "user": {
      "displayName": "Jim Owen",
      "photoUrl": "https://lh3.googleusercontent.com/a-/AOh14Gg6nX8dnDJrxx0d0ekeclz0yd7tkx5op3_4sJH5LA=s64",
      "userId": "16542393695542225143"
     },
     "user_tz": -60
    },
    "id": "BimFGpH9zBiK",
    "outputId": "8d6fa6ef-dc39-4c6a-dfe0-b2dcfd097f15"
   },
   "outputs": [
    {
     "name": "stdout",
     "output_type": "stream",
     "text": [
      "<class 'pandas.core.frame.DataFrame'>\n",
      "Int64Index: 16643 entries, 0 to 18206\n",
      "Data columns (total 62 columns):\n",
      " #   Column                     Non-Null Count  Dtype  \n",
      "---  ------                     --------------  -----  \n",
      " 0   ID                         16643 non-null  int64  \n",
      " 1   Name                       16643 non-null  object \n",
      " 2   Age                        16643 non-null  int64  \n",
      " 3   Nationality                16643 non-null  object \n",
      " 4   Overall                    16643 non-null  int64  \n",
      " 5   Potential                  16643 non-null  int64  \n",
      " 6   Club                       16643 non-null  object \n",
      " 7   Value                      16643 non-null  object \n",
      " 8   Wage                       16643 non-null  object \n",
      " 9   Preferred Foot             16643 non-null  object \n",
      " 10  International Reputation   16643 non-null  float64\n",
      " 11  Weak Foot                  16643 non-null  float64\n",
      " 12  Skill Moves                16643 non-null  float64\n",
      " 13  Work Rate                  16643 non-null  object \n",
      " 14  Position                   16643 non-null  object \n",
      " 15  Contract Valid Until       16643 non-null  object \n",
      " 16  Height                     16643 non-null  object \n",
      " 17  Crossing                   16643 non-null  float64\n",
      " 18  Finishing                  16643 non-null  float64\n",
      " 19  HeadingAccuracy            16643 non-null  float64\n",
      " 20  ShortPassing               16643 non-null  float64\n",
      " 21  Volleys                    16643 non-null  float64\n",
      " 22  Dribbling                  16643 non-null  float64\n",
      " 23  Curve                      16643 non-null  float64\n",
      " 24  FKAccuracy                 16643 non-null  float64\n",
      " 25  LongPassing                16643 non-null  float64\n",
      " 26  BallControl                16643 non-null  float64\n",
      " 27  Acceleration               16643 non-null  float64\n",
      " 28  SprintSpeed                16643 non-null  float64\n",
      " 29  Agility                    16643 non-null  float64\n",
      " 30  Reactions                  16643 non-null  float64\n",
      " 31  Balance                    16643 non-null  float64\n",
      " 32  ShotPower                  16643 non-null  float64\n",
      " 33  Jumping                    16643 non-null  float64\n",
      " 34  Stamina                    16643 non-null  float64\n",
      " 35  Strength                   16643 non-null  float64\n",
      " 36  LongShots                  16643 non-null  float64\n",
      " 37  Aggression                 16643 non-null  float64\n",
      " 38  Interceptions              16643 non-null  float64\n",
      " 39  Positioning                16643 non-null  float64\n",
      " 40  Vision                     16643 non-null  float64\n",
      " 41  Penalties                  16643 non-null  float64\n",
      " 42  Composure                  16643 non-null  float64\n",
      " 43  Marking                    16643 non-null  float64\n",
      " 44  StandingTackle             16643 non-null  float64\n",
      " 45  SlidingTackle              16643 non-null  float64\n",
      " 46  Release Clause             16643 non-null  object \n",
      " 47  GoalkeeperRating           16643 non-null  float64\n",
      " 48  SimplifiedPosition         16643 non-null  object \n",
      " 49  Finishing_Marking          16643 non-null  float64\n",
      " 50  Agility_Strength           16643 non-null  float64\n",
      " 51  Dribbling_StandTackle      16643 non-null  float64\n",
      " 52  GoalkeeperRating_Overall   16643 non-null  float64\n",
      " 53  Vision_Finishing           16643 non-null  float64\n",
      " 54  Acceleration_Stamina       16643 non-null  float64\n",
      " 55  SprintSpeed_FKAccuracy     16643 non-null  float64\n",
      " 56  Attacker                   16643 non-null  bool   \n",
      " 57  WidePlayer                 16643 non-null  bool   \n",
      " 58  GoalKeeper                 16643 non-null  bool   \n",
      " 59  FurtherSimplifiedPosition  16643 non-null  object \n",
      " 60  Defending/Attincking_1     16643 non-null  float64\n",
      " 61  Defending/Attincking_2     16643 non-null  float64\n",
      "dtypes: bool(3), float64(42), int64(4), object(13)\n",
      "memory usage: 8.3+ MB\n"
     ]
    }
   ],
   "source": [
    "#we can see that the 'Value' and 'Wage' columns are not integers\n",
    "df.info()"
   ]
  },
  {
   "cell_type": "code",
   "execution_count": 182,
   "metadata": {
    "executionInfo": {
     "elapsed": 1138,
     "status": "ok",
     "timestamp": 1619719757392,
     "user": {
      "displayName": "Jim Owen",
      "photoUrl": "https://lh3.googleusercontent.com/a-/AOh14Gg6nX8dnDJrxx0d0ekeclz0yd7tkx5op3_4sJH5LA=s64",
      "userId": "16542393695542225143"
     },
     "user_tz": -60
    },
    "id": "D7rSWnKUxl9y"
   },
   "outputs": [],
   "source": [
    "# wage column is relatively easy to clean, as the values are all in the format E123K\n",
    "\n",
    "#we can simply replace the 'K' and 'E' values and convert them to integers\n",
    "df['Wage'] = df['Wage'].str.replace('K', '')\n",
    "df['Wage'] = df['Wage'].str.replace('€', '')\n",
    "df['Wage'] = df['Wage'].astype(int)\n",
    "\n",
    "#however, the value column is a little more difficult to clean, as some players' value\n",
    "#is measured in 'K' (Thousands) and some are measured by 'M' (Millions)\n",
    "\n",
    "#create a 'value multiplier' column to take account of the K and M values \n",
    "\n",
    "def f(row):\n",
    "    if 'K' in row['Value']:\n",
    "        val = 1000 \n",
    "    elif 'M' in row['Value']:\n",
    "        val = 1000000\n",
    "    else:\n",
    "        val = 0 \n",
    "    return val\n",
    "\n",
    "#create new column 'Value_Muliplier' using the function above\n",
    "df['Value_multiplier'] = df.apply(f, axis=1)\n",
    "\n",
    "#we can then remove the 'K' , 'M' and 'E' values\n",
    "\n",
    "df['Value'] = df['Value'].str.replace('K', '')\n",
    "df['Value'] = df['Value'].str.replace('€', '')\n",
    "df['Value'] = df['Value'].str.replace('M', '')\n",
    "df['Value'] = df['Value'].astype(float)\n",
    "\n",
    "#we can then multiply this by our value_multiplier column\n",
    "df['intValue']= (df.Value * df.Value_multiplier)\n",
    "\n",
    "#convert to integer\n",
    "df['intValue'] = df['intValue'].astype(int)\n",
    "\n",
    "#drop columns used in conversion\n",
    "df.drop(['Value_multiplier','Value'],axis=1,inplace=True)\n",
    "\n",
    "\n",
    "#we must also convert the 'contract valid until' column to an integer\n",
    "df['Contract Valid Until'] = df['Contract Valid Until'].astype(int)\n",
    "\n",
    "#since the dataset is from 2018, we can use this to create a variable which represents the years remaining on contract\n",
    "df['Contract Valid Until'] = df['Contract Valid Until'] - 2018"
   ]
  },
  {
   "cell_type": "markdown",
   "metadata": {
    "id": "TdD89ii32uxi"
   },
   "source": [
    "Next, we will explore the data to see if there are some relationships between the players attributes and their value."
   ]
  },
  {
   "cell_type": "code",
   "execution_count": 183,
   "metadata": {
    "colab": {
     "base_uri": "https://localhost:8080/",
     "height": 389
    },
    "executionInfo": {
     "elapsed": 976,
     "status": "ok",
     "timestamp": 1619719762857,
     "user": {
      "displayName": "Jim Owen",
      "photoUrl": "https://lh3.googleusercontent.com/a-/AOh14Gg6nX8dnDJrxx0d0ekeclz0yd7tkx5op3_4sJH5LA=s64",
      "userId": "16542393695542225143"
     },
     "user_tz": -60
    },
    "id": "swLoSBlF2_DM",
    "outputId": "69d84498-4bcc-4d67-9099-819c40be57ce"
   },
   "outputs": [
    {
     "data": {
      "text/plain": [
       "<AxesSubplot:xlabel='Contract Valid Until'>"
      ]
     },
     "execution_count": 183,
     "metadata": {},
     "output_type": "execute_result"
    },
    {
     "data": {
      "image/png": "[encoded data removed]",
      "text/plain": [
       "<Figure size 576x396 with 1 Axes>"
      ]
     },
     "metadata": {},
     "output_type": "display_data"
    }
   ],
   "source": [
    "#plot the relationship between years remaining on contract and value\n",
    "Contract_Length_Group = pd.DataFrame(df.groupby('Contract Valid Until').intValue.mean())\n",
    "Contract_Length_Group.plot()"
   ]
  },
  {
   "cell_type": "code",
   "execution_count": 184,
   "metadata": {
    "colab": {
     "base_uri": "https://localhost:8080/",
     "height": 389
    },
    "executionInfo": {
     "elapsed": 886,
     "status": "ok",
     "timestamp": 1619719766459,
     "user": {
      "displayName": "Jim Owen",
      "photoUrl": "https://lh3.googleusercontent.com/a-/AOh14Gg6nX8dnDJrxx0d0ekeclz0yd7tkx5op3_4sJH5LA=s64",
      "userId": "16542393695542225143"
     },
     "user_tz": -60
    },
    "id": "eGR3xAN35GAg",
    "outputId": "ad594f58-ffb2-4c8a-d334-cdc215b214c0"
   },
   "outputs": [
    {
     "data": {
      "text/plain": [
       "<AxesSubplot:xlabel='Age'>"
      ]
     },
     "execution_count": 184,
     "metadata": {},
     "output_type": "execute_result"
    },
    {
     "data": {
      "image/png": "[encoded data removed]",
      "text/plain": [
       "<Figure size 576x396 with 1 Axes>"
      ]
     },
     "metadata": {},
     "output_type": "display_data"
    }
   ],
   "source": [
    "#plot the relationship between years remaining on contract and value\n",
    "Age_Group = pd.DataFrame(df.groupby('Age').intValue.mean())\n",
    "Age_Group.plot()"
   ]
  },
  {
   "cell_type": "code",
   "execution_count": 185,
   "metadata": {
    "colab": {
     "base_uri": "https://localhost:8080/",
     "height": 382
    },
    "executionInfo": {
     "elapsed": 2423,
     "status": "ok",
     "timestamp": 1619719872132,
     "user": {
      "displayName": "Jim Owen",
      "photoUrl": "https://lh3.googleusercontent.com/a-/AOh14Gg6nX8dnDJrxx0d0ekeclz0yd7tkx5op3_4sJH5LA=s64",
      "userId": "16542393695542225143"
     },
     "user_tz": -60
    },
    "id": "lhAZP1xu5mZw",
    "outputId": "67fbb25f-d0b4-490f-a6e9-490e50ae4be0"
   },
   "outputs": [
    {
     "data": {
      "text/plain": [
       "<seaborn.axisgrid.FacetGrid at 0x21061148490>"
      ]
     },
     "execution_count": 185,
     "metadata": {},
     "output_type": "execute_result"
    },
    {
     "data": {
      "image/png": "[encoded data removed]",
      "text/plain": [
       "<Figure size 360x360 with 1 Axes>"
      ]
     },
     "metadata": {},
     "output_type": "display_data"
    }
   ],
   "source": [
    "#plot the relationship between Value and wage\n",
    "sns.lmplot(x = 'intValue', y = 'Wage', data=df  )"
   ]
  },
  {
   "cell_type": "code",
   "execution_count": 186,
   "metadata": {
    "colab": {
     "base_uri": "https://localhost:8080/",
     "height": 396
    },
    "executionInfo": {
     "elapsed": 2613,
     "status": "ok",
     "timestamp": 1619719877391,
     "user": {
      "displayName": "Jim Owen",
      "photoUrl": "https://lh3.googleusercontent.com/a-/AOh14Gg6nX8dnDJrxx0d0ekeclz0yd7tkx5op3_4sJH5LA=s64",
      "userId": "16542393695542225143"
     },
     "user_tz": -60
    },
    "id": "EyAMx2mT5tVw",
    "outputId": "50cd03a6-a579-48ed-82a0-d2833ba5ff75"
   },
   "outputs": [
    {
     "data": {
      "text/plain": [
       "<seaborn.axisgrid.FacetGrid at 0x2105b4ec2e0>"
      ]
     },
     "execution_count": 186,
     "metadata": {},
     "output_type": "execute_result"
    },
    {
     "data": {
      "image/png": "[encoded data removed]",
      "text/plain": [
       "<Figure size 360x360 with 1 Axes>"
      ]
     },
     "metadata": {},
     "output_type": "display_data"
    }
   ],
   "source": [
    "#plot the relationship between overall and value\n",
    "sns.lmplot(x = 'Overall', y = 'intValue', data=df  )"
   ]
  },
  {
   "cell_type": "markdown",
   "metadata": {
    "id": "ePPB7TpP7JSm"
   },
   "source": [
    "Based on the analysis above, it looks these four data points are correlated with a players value. "
   ]
  },
  {
   "cell_type": "markdown",
   "metadata": {},
   "source": [
    "# Linear Regression\n",
    "\n",
    "One way we can model the relationship between Value and these four values is using liner regression. "
   ]
  },
  {
   "cell_type": "code",
   "execution_count": 187,
   "metadata": {
    "colab": {
     "base_uri": "https://localhost:8080/",
     "height": 196
    },
    "executionInfo": {
     "elapsed": 857,
     "status": "ok",
     "timestamp": 1619719893587,
     "user": {
      "displayName": "Jim Owen",
      "photoUrl": "https://lh3.googleusercontent.com/a-/AOh14Gg6nX8dnDJrxx0d0ekeclz0yd7tkx5op3_4sJH5LA=s64",
      "userId": "16542393695542225143"
     },
     "user_tz": -60
    },
    "id": "3LGHAXNd77g2",
    "outputId": "130962cf-76a6-43c8-a386-4bb25059cc81"
   },
   "outputs": [
    {
     "data": {
      "text/html": [
       "<div>\n",
       "<style scoped>\n",
       "    .dataframe tbody tr th:only-of-type {\n",
       "        vertical-align: middle;\n",
       "    }\n",
       "\n",
       "    .dataframe tbody tr th {\n",
       "        vertical-align: top;\n",
       "    }\n",
       "\n",
       "    .dataframe thead th {\n",
       "        text-align: right;\n",
       "    }\n",
       "</style>\n",
       "<table border=\"1\" class=\"dataframe\">\n",
       "  <thead>\n",
       "    <tr style=\"text-align: right;\">\n",
       "      <th></th>\n",
       "      <th>Overall</th>\n",
       "      <th>Wage</th>\n",
       "      <th>Contract Valid Until</th>\n",
       "      <th>Age</th>\n",
       "      <th>intValue</th>\n",
       "    </tr>\n",
       "  </thead>\n",
       "  <tbody>\n",
       "    <tr>\n",
       "      <th>0</th>\n",
       "      <td>94</td>\n",
       "      <td>565</td>\n",
       "      <td>3</td>\n",
       "      <td>31</td>\n",
       "      <td>110500000</td>\n",
       "    </tr>\n",
       "    <tr>\n",
       "      <th>1</th>\n",
       "      <td>94</td>\n",
       "      <td>405</td>\n",
       "      <td>4</td>\n",
       "      <td>33</td>\n",
       "      <td>77000000</td>\n",
       "    </tr>\n",
       "    <tr>\n",
       "      <th>2</th>\n",
       "      <td>92</td>\n",
       "      <td>290</td>\n",
       "      <td>4</td>\n",
       "      <td>26</td>\n",
       "      <td>118500000</td>\n",
       "    </tr>\n",
       "    <tr>\n",
       "      <th>3</th>\n",
       "      <td>91</td>\n",
       "      <td>260</td>\n",
       "      <td>2</td>\n",
       "      <td>27</td>\n",
       "      <td>72000000</td>\n",
       "    </tr>\n",
       "    <tr>\n",
       "      <th>4</th>\n",
       "      <td>91</td>\n",
       "      <td>355</td>\n",
       "      <td>5</td>\n",
       "      <td>27</td>\n",
       "      <td>102000000</td>\n",
       "    </tr>\n",
       "  </tbody>\n",
       "</table>\n",
       "</div>"
      ],
      "text/plain": [
       "   Overall  Wage  Contract Valid Until  Age   intValue\n",
       "0       94   565                     3   31  110500000\n",
       "1       94   405                     4   33   77000000\n",
       "2       92   290                     4   26  118500000\n",
       "3       91   260                     2   27   72000000\n",
       "4       91   355                     5   27  102000000"
      ]
     },
     "execution_count": 187,
     "metadata": {},
     "output_type": "execute_result"
    }
   ],
   "source": [
    "#import linear regression \n",
    "from sklearn.linear_model import LinearRegression\n",
    "\n",
    "#create a new simplified dataframe to allow for easy comparision\n",
    "value_df = df[['Overall', 'Wage','Contract Valid Until','Age','intValue']].copy()\n",
    "value_df.head()"
   ]
  },
  {
   "cell_type": "code",
   "execution_count": 188,
   "metadata": {
    "executionInfo": {
     "elapsed": 741,
     "status": "ok",
     "timestamp": 1619719896230,
     "user": {
      "displayName": "Jim Owen",
      "photoUrl": "https://lh3.googleusercontent.com/a-/AOh14Gg6nX8dnDJrxx0d0ekeclz0yd7tkx5op3_4sJH5LA=s64",
      "userId": "16542393695542225143"
     },
     "user_tz": -60
    },
    "id": "TeV7etpr8PiE"
   },
   "outputs": [],
   "source": [
    "#create x and y variables \n",
    "x= value_df.drop(['intValue'],axis=1).values\n",
    "y= value_df['intValue'].values\n",
    "\n",
    "#fit the linear regression model\n",
    "linreg = LinearRegression()\n",
    "linreg.fit(x,y)\n",
    "\n",
    "#predict the expected values of Y by applying the model to  observed X values \n",
    "y_pred = linreg.predict(x)\n",
    "\n"
   ]
  },
  {
   "cell_type": "markdown",
   "metadata": {
    "id": "-vWFzniC80QL"
   },
   "source": [
    "We can assess the effectiveness of this model by using the MeanSquared and MeanAbsolute error methods."
   ]
  },
  {
   "cell_type": "code",
   "execution_count": 189,
   "metadata": {
    "colab": {
     "base_uri": "https://localhost:8080/"
    },
    "executionInfo": {
     "elapsed": 1210,
     "status": "ok",
     "timestamp": 1619719899630,
     "user": {
      "displayName": "Jim Owen",
      "photoUrl": "https://lh3.googleusercontent.com/a-/AOh14Gg6nX8dnDJrxx0d0ekeclz0yd7tkx5op3_4sJH5LA=s64",
      "userId": "16542393695542225143"
     },
     "user_tz": -60
    },
    "id": "bnrrvvmD8zow",
    "outputId": "61614295-8e13-42f8-e32c-0a45432c5f31"
   },
   "outputs": [
    {
     "name": "stdout",
     "output_type": "stream",
     "text": [
      "MSE:  6818139660734.17\n",
      "MAE:  1321910.96\n",
      "RMSE:  2611156.77\n"
     ]
    }
   ],
   "source": [
    "#import the required models\n",
    "import math\n",
    "from sklearn.metrics import mean_squared_error\n",
    "from sklearn.metrics import mean_absolute_error\n",
    "\n",
    "#use the mean square error method to compare the results of the model with the real values\n",
    "MSE = mean_squared_error(y, y_pred)\n",
    "MAE = mean_absolute_error(y, y_pred)\n",
    "RMSE = math.sqrt(MSE)\n",
    "\n",
    "#print the results\n",
    "print(\"MSE: \", round(MSE,2))\n",
    "print(\"MAE: \", round(MAE,2))\n",
    "print(\"RMSE: \", round(RMSE,2))"
   ]
  },
  {
   "cell_type": "markdown",
   "metadata": {
    "id": "ZlfMpCXTACts"
   },
   "source": [
    "# Polynomial Regression\n",
    "\n",
    "Looking closely at the graph which plots 'Value' against 'Overall', it looks as these are not linearly related. We can therefore use a polynomial regression to try and predict the values. "
   ]
  },
  {
   "cell_type": "code",
   "execution_count": 190,
   "metadata": {
    "colab": {
     "base_uri": "https://localhost:8080/",
     "height": 374
    },
    "executionInfo": {
     "elapsed": 1005,
     "status": "ok",
     "timestamp": 1619719903025,
     "user": {
      "displayName": "Jim Owen",
      "photoUrl": "https://lh3.googleusercontent.com/a-/AOh14Gg6nX8dnDJrxx0d0ekeclz0yd7tkx5op3_4sJH5LA=s64",
      "userId": "16542393695542225143"
     },
     "user_tz": -60
    },
    "id": "_cNO7Ri9Bpzd",
    "outputId": "6b652bc2-59ec-43e6-d27e-78d5f024a9ae"
   },
   "outputs": [
    {
     "data": {
      "text/plain": [
       "[<matplotlib.lines.Line2D at 0x2105b269fd0>]"
      ]
     },
     "execution_count": 190,
     "metadata": {},
     "output_type": "execute_result"
    },
    {
     "data": {
      "image/png": "[encoded data removed]",
      "text/plain": [
       "<Figure size 576x396 with 1 Axes>"
      ]
     },
     "metadata": {},
     "output_type": "display_data"
    }
   ],
   "source": [
    "#import polynomial regression\n",
    "from sklearn.preprocessing import PolynomialFeatures\n",
    "\n",
    "#create the x and y variables \n",
    "x= value_df['Overall']\n",
    "y= value_df['intValue']\n",
    "x= x.values.reshape(-1, 1)\n",
    "y= y.values.reshape(-1, 1)\n",
    "\n",
    "#transform the x variable into a polynomial\n",
    "#initially, we will pick a value of 2\n",
    "poly = PolynomialFeatures(degree =2 )\n",
    "x_poly = poly.fit_transform(x)\n",
    "\n",
    "#fit the model to the data\n",
    "poly.fit(x_poly,y)\n",
    "lin2 = LinearRegression()\n",
    "lin2.fit(x_poly,y)\n",
    "\n",
    "#plot the results to see the model's prediction\n",
    "plt.scatter(x,y ,color = 'blue')\n",
    "plt.plot(x,lin2.predict(poly.fit_transform(x)))"
   ]
  },
  {
   "cell_type": "code",
   "execution_count": 191,
   "metadata": {
    "colab": {
     "base_uri": "https://localhost:8080/"
    },
    "executionInfo": {
     "elapsed": 855,
     "status": "ok",
     "timestamp": 1619719907127,
     "user": {
      "displayName": "Jim Owen",
      "photoUrl": "https://lh3.googleusercontent.com/a-/AOh14Gg6nX8dnDJrxx0d0ekeclz0yd7tkx5op3_4sJH5LA=s64",
      "userId": "16542393695542225143"
     },
     "user_tz": -60
    },
    "id": "64ER2pcoDvuN",
    "outputId": "4c255056-fa22-499b-e095-89fe22feabbe"
   },
   "outputs": [
    {
     "name": "stdout",
     "output_type": "stream",
     "text": [
      "MSE:  7771541698339.96\n",
      "MAE:  1514414.72\n",
      "RMSE:  2787748.5\n"
     ]
    }
   ],
   "source": [
    "#create a variable to store the predicted values of y \n",
    "y_pred = lin2.predict(poly.fit_transform(x))\n",
    "\n",
    "#use the mean square error method to compare the results of the model with the real values\n",
    "MSE = mean_squared_error(y, y_pred)\n",
    "MAE = mean_absolute_error(y, y_pred)\n",
    "RMSE = math.sqrt(MSE)\n",
    "\n",
    "#print the results\n",
    "print(\"MSE: \", round(MSE,2))\n",
    "print(\"MAE: \", round(MAE,2))\n",
    "print(\"RMSE: \", round(RMSE,2))"
   ]
  },
  {
   "cell_type": "markdown",
   "metadata": {
    "id": "lq5ZJTDECv2e"
   },
   "source": [
    "Based on the results above, it does not look like the polynomial degree of 2 is the best for the data, it is underfitting. Instead, we will choose a value of 4."
   ]
  },
  {
   "cell_type": "code",
   "execution_count": 192,
   "metadata": {
    "colab": {
     "base_uri": "https://localhost:8080/",
     "height": 374
    },
    "executionInfo": {
     "elapsed": 986,
     "status": "ok",
     "timestamp": 1619719910130,
     "user": {
      "displayName": "Jim Owen",
      "photoUrl": "https://lh3.googleusercontent.com/a-/AOh14Gg6nX8dnDJrxx0d0ekeclz0yd7tkx5op3_4sJH5LA=s64",
      "userId": "16542393695542225143"
     },
     "user_tz": -60
    },
    "id": "AVvO__rHDKOe",
    "outputId": "7eaf8f71-7c35-496f-f117-ac7311b03b1a"
   },
   "outputs": [
    {
     "data": {
      "text/plain": [
       "[<matplotlib.lines.Line2D at 0x2105b44fdc0>]"
      ]
     },
     "execution_count": 192,
     "metadata": {},
     "output_type": "execute_result"
    },
    {
     "data": {
      "image/png": "[encoded data removed]",
      "text/plain": [
       "<Figure size 576x396 with 1 Axes>"
      ]
     },
     "metadata": {},
     "output_type": "display_data"
    }
   ],
   "source": [
    "poly = PolynomialFeatures(degree =4)\n",
    "x_poly = poly.fit_transform(x)\n",
    "\n",
    "#fit the model to the data\n",
    "poly.fit(x_poly,y)\n",
    "lin2 = LinearRegression()\n",
    "lin2.fit(x_poly,y)\n",
    "\n",
    "#plot the results to see the model's prediction\n",
    "plt.scatter(x,y ,color = 'blue')\n",
    "plt.plot(x,lin2.predict(poly.fit_transform(x)))"
   ]
  },
  {
   "cell_type": "code",
   "execution_count": 193,
   "metadata": {
    "colab": {
     "base_uri": "https://localhost:8080/"
    },
    "executionInfo": {
     "elapsed": 748,
     "status": "ok",
     "timestamp": 1619719912792,
     "user": {
      "displayName": "Jim Owen",
      "photoUrl": "https://lh3.googleusercontent.com/a-/AOh14Gg6nX8dnDJrxx0d0ekeclz0yd7tkx5op3_4sJH5LA=s64",
      "userId": "16542393695542225143"
     },
     "user_tz": -60
    },
    "id": "_9WU0M3WEyvs",
    "outputId": "0c162827-48e4-4ba0-944b-df422c5c897b"
   },
   "outputs": [
    {
     "name": "stdout",
     "output_type": "stream",
     "text": [
      "MSE:  3250791049390.76\n",
      "MAE:  643215.94\n",
      "RMSE:  1802995.02\n"
     ]
    }
   ],
   "source": [
    "#create a variable to store the predicted values of y \n",
    "y_pred = lin2.predict(poly.fit_transform(x))\n",
    "\n",
    "#use the mean square error method to compare the results of the model with the real values\n",
    "MSE = mean_squared_error(y, y_pred)\n",
    "MAE = mean_absolute_error(y, y_pred)\n",
    "RMSE = math.sqrt(MSE)\n",
    "\n",
    "#print the results\n",
    "print(\"MSE: \", round(MSE,2))\n",
    "print(\"MAE: \", round(MAE,2))\n",
    "print(\"RMSE: \", round(RMSE,2))"
   ]
  },
  {
   "cell_type": "markdown",
   "metadata": {
    "id": "VxKn53t8E2kO"
   },
   "source": [
    "It looks like this version of the model is a much better fit for the data, striking a balance between overfitting and underfitting. "
   ]
  }
 ],
 "metadata": {
  "colab": {
   "authorship_tag": "ABX9TyPvebUxWlktnPv1vuUHW0Jz",
   "collapsed_sections": [],
   "name": "Coursework_2_Python_Source_code_final.ipynb",
   "provenance": []
  },
  "kernelspec": {
   "display_name": "Python 3",
   "language": "python",
   "name": "python3"
  },
  "language_info": {
   "codemirror_mode": {
    "name": "ipython",
    "version": 3
   },
   "file_extension": ".py",
   "mimetype": "text/x-python",
   "name": "python",
   "nbconvert_exporter": "python",
   "pygments_lexer": "ipython3",
   "version": "3.8.5"
  }
 },
 "nbformat": 4,
 "nbformat_minor": 1
}
